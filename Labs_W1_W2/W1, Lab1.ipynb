{
 "cells": [
  {
   "cell_type": "markdown",
   "metadata": {},
   "source": [
    "<p style=\"font-family: Arial; font-size:3em;color:black;\"> Lab W1 </p>"
   ]
  },
  {
   "cell_type": "markdown",
   "metadata": {},
   "source": [
    "Students name in this Group: <br>\n",
    "Javier Jiménez Cañizares 101371877<br>\n",
    "Luis Alberto Sosa Quintero 101369283<br>\n",
    "Ting Fu Kevin Tsai 101031370<br>\n",
    "Olanrewaju Yusuf 101364202<br>"
   ]
  },
  {
   "cell_type": "code",
   "execution_count": 1,
   "metadata": {},
   "outputs": [],
   "source": [
    "# importing numpy\n",
    "import numpy as np"
   ]
  },
  {
   "cell_type": "code",
   "execution_count": 2,
   "metadata": {},
   "outputs": [
    {
     "name": "stdout",
     "output_type": "stream",
     "text": [
      "[1 2 3 5 0]\n",
      "1 element(s) are zero.\n"
     ]
    }
   ],
   "source": [
    "# Create a numpy array with the elements \"1, 2, 3, 5, 0\", print the array and test if all of its elements are non-zero.\n",
    "arr = np.array([1, 2, 3, 5, 0])\n",
    "print(arr)\n",
    "\n",
    "def check_non_zero(x):\n",
    "    num_zeros = arr.size - np.count_nonzero(arr)\n",
    "    if num_zeros == 0:\n",
    "        return \"All elements are non-zero.\"\n",
    "    else:\n",
    "        return str(num_zeros) + \" element(s) are zero.\"\n",
    "    \n",
    "print(check_non_zero(arr))"
   ]
  },
  {
   "cell_type": "code",
   "execution_count": 3,
   "metadata": {},
   "outputs": [
    {
     "name": "stdout",
     "output_type": "stream",
     "text": [
      "[ 3 -1  3  7  2]\n",
      "All elements are non-zero.\n"
     ]
    }
   ],
   "source": [
    "# Create a numpy array with the elements \"3, -1, 3, 7, 2\", print the array and test if any of its elements is non-zero.\n",
    "arr = np.array([3, -1, 3, 7, 2])\n",
    "print(arr)\n",
    "print(check_non_zero(arr))"
   ]
  },
  {
   "cell_type": "code",
   "execution_count": 4,
   "metadata": {},
   "outputs": [
    {
     "name": "stdout",
     "output_type": "stream",
     "text": [
      "[0 0 0 0]\n",
      "4 element(s) are zero.\n"
     ]
    }
   ],
   "source": [
    "# Create a numpy array with the elements \"0, 0, 0, 0\", print the array and test if any of its elements is non-zero.\n",
    "arr = np.array([0, 0, 0, 0])\n",
    "print(arr)\n",
    "print(check_non_zero(arr))"
   ]
  },
  {
   "cell_type": "code",
   "execution_count": 5,
   "metadata": {},
   "outputs": [
    {
     "name": "stdout",
     "output_type": "stream",
     "text": [
      "[56 -2  7]\n",
      "Memory allocated is 12 bytes.\n"
     ]
    }
   ],
   "source": [
    "# Create a numpy array with the elements \"56, -2, 7\", print the array and the amount of memory required to store it.\n",
    "arr = np.array([56, -2, 7], dtype=np.int32)\n",
    "print(arr)\n",
    "\n",
    "print(\"Memory allocated is \" + str(arr.nbytes) + \" bytes.\")"
   ]
  },
  {
   "cell_type": "code",
   "execution_count": 6,
   "metadata": {},
   "outputs": [
    {
     "name": "stdout",
     "output_type": "stream",
     "text": [
      "[0 0 0 0 0 0 0 0 0 0]\n",
      "[1 1 1 1 1 1]\n",
      "[3 3 3 3 3 3 3 3 3 3 3 3]\n"
     ]
    }
   ],
   "source": [
    "# Create a numpy array with 10 zeros and print the array.\n",
    "zero_arr = np.zeros(10, dtype=np.int32)\n",
    "print(zero_arr)\n",
    "# Create a numpy array with 6 ones and print the array.\n",
    "one_arr = np.ones(6, dtype=np.int32)\n",
    "print(one_arr)\n",
    "# Create a numpy array with 12 '3's and print the array. [3 3 3 3 3 3 3 3 3 3 3 3]\n",
    "three_arr = np.full(12, 3)\n",
    "print(three_arr)"
   ]
  },
  {
   "cell_type": "code",
   "execution_count": 7,
   "metadata": {},
   "outputs": [
    {
     "name": "stdout",
     "output_type": "stream",
     "text": [
      "[ 8  9 10 11 12 13 14 15 16 17 18 19 20]\n",
      "[ 8 10 12 14 16 18 20]\n"
     ]
    }
   ],
   "source": [
    "# Create a numpy array of the integers from 8 to 20 and print the array. (make sure 20 itself is included) hint:  use \"arange\" method\n",
    "arr = np.arange(8, 21)\n",
    "print(arr)\n",
    "# Create a numpy array of the even integers from 8 to 20 and print the array. (make sure 20 itself is included)   hint:  use \"arange\" method\n",
    "arr = np.arange(8, 21, 2)\n",
    "print(arr)"
   ]
  },
  {
   "cell_type": "code",
   "execution_count": 8,
   "metadata": {},
   "outputs": [
    {
     "name": "stdout",
     "output_type": "stream",
     "text": [
      "100 random - mean: 1.9762217251010257 max:2.8627435395598795 min:0.8484170493980676 std:0.4268356923940434\n",
      "1000 random - mean: 1.9726057221346 max:3.4260928432714604 min:0.33620543197082786 std:0.4847342570068916\n",
      "1000000 random - mean: 1.9998284237697201 max:4.493130932506279 min:-0.29730794865307875 std:0.5000596878150604\n"
     ]
    }
   ],
   "source": [
    "getArrInfo = lambda x : \"mean: \" + str(np.mean(x)) + \" max:\" + str(np.max(x)) + \" min:\" + str(np.min(x)) + \" std:\" + str(np.std(x))\n",
    "\n",
    "# Create a numpy array consisting of 100 random elements from normal distribution with mean of 2 and std of 0.5. Print the mean, max, min and std of the array.\n",
    "arr = np.random.normal(2.0, 0.5, 100)\n",
    "print(\"100 random - \" + getArrInfo(arr))\n",
    "# Create a numpy array consisting of 1000 random elements from normal distribution with mean of 2 and std of 0.5. Print the mean, max, min and std of the array.\n",
    "arr = np.random.normal(2.0, 0.5, 1000)\n",
    "print(\"1000 random - \" + getArrInfo(arr))\n",
    "# Create a numpy array consisting of 1000000 random elements from normal distribution with mean of 2 and std of 0.5. Print the mean, max, min and std of the array.\n",
    "arr = np.random.normal(2.0, 0.5, 1000000)\n",
    "print(\"1000000 random - \" + getArrInfo(arr))"
   ]
  },
  {
   "cell_type": "code",
   "execution_count": 9,
   "metadata": {},
   "outputs": [],
   "source": [
    "# (Bonus question) Looking at the three above examples with 1000, 5000, and 10000 random elements, do you have any observations about mean and std values?"
   ]
  },
  {
   "cell_type": "markdown",
   "metadata": {},
   "source": [
    "Since mean and std is input as parameters during array creation, the actual mean and std don't differ much regardless of array size. However, min max values get further away from the mean as number of samples increases."
   ]
  }
 ],
 "metadata": {
  "kernelspec": {
   "display_name": "Python 3 (ipykernel)",
   "language": "python",
   "name": "python3"
  },
  "language_info": {
   "codemirror_mode": {
    "name": "ipython",
    "version": 3
   },
   "file_extension": ".py",
   "mimetype": "text/x-python",
   "name": "python",
   "nbconvert_exporter": "python",
   "pygments_lexer": "ipython3",
   "version": "3.8.11"
  }
 },
 "nbformat": 4,
 "nbformat_minor": 1
}
