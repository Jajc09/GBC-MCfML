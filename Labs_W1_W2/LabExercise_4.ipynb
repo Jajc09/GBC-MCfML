{
 "cells": [
  {
   "cell_type": "markdown",
   "id": "965e8d66",
   "metadata": {},
   "source": [
    "<p style=\"font-family: Arial; font-size:3em;color:black;\"> Lab W2 </p>"
   ]
  },
  {
   "cell_type": "markdown",
   "id": "f43d7b5b",
   "metadata": {},
   "source": [
    "Students name in this Group: <br>\n",
    "Javier Jiménez Cañizares 101371877<br>\n",
    "Luis Alberto Sosa Quintero 101369283<br>\n",
    "Ting Fu Kevin Tsai 101031370<br>\n",
    "Olanrewaju Yusuf 101364202<br>"
   ]
  },
  {
   "cell_type": "code",
   "execution_count": 1,
   "id": "fa8a2d82",
   "metadata": {},
   "outputs": [],
   "source": [
    "import numpy as np"
   ]
  },
  {
   "cell_type": "code",
   "execution_count": 2,
   "id": "a0f81290",
   "metadata": {},
   "outputs": [
    {
     "name": "stdout",
     "output_type": "stream",
     "text": [
      "[[5 2 3]\n",
      " [6 1 3]\n",
      " [2 4 1]]\n"
     ]
    }
   ],
   "source": [
    "matrix_A = np.array([5, 2, 3, 6, 1, 3, 2, 4, 1])\n",
    "matrix_A = matrix_A.reshape(3, 3)\n",
    "print(matrix_A)\n",
    "\n",
    "# A, B and C are identical in doc therefore only showing A"
   ]
  },
  {
   "cell_type": "code",
   "execution_count": 3,
   "id": "292a3ebf",
   "metadata": {},
   "outputs": [],
   "source": [
    "matrix_D = np.array([4, -7, 4, 5, 6, -1, -4, 2, 5])\n",
    "matrix_D = matrix_D.reshape(3, 3)"
   ]
  },
  {
   "cell_type": "code",
   "execution_count": 4,
   "id": "08c22299",
   "metadata": {},
   "outputs": [
    {
     "name": "stdout",
     "output_type": "stream",
     "text": [
      "AD:\n",
      "[[ 18 -17  33]\n",
      " [ 17 -30  38]\n",
      " [ 24  12   9]]\n",
      "DA:\n",
      "[[-14  17  -5]\n",
      " [ 59  12  32]\n",
      " [  2  14  -1]]\n"
     ]
    }
   ],
   "source": [
    "matrix_AD = np.matmul(matrix_A, matrix_D)\n",
    "matrix_DA = np.matmul(matrix_D, matrix_A)\n",
    "print(\"AD:\")\n",
    "print(matrix_AD)\n",
    "print(\"DA:\")\n",
    "print(matrix_DA)"
   ]
  },
  {
   "cell_type": "markdown",
   "id": "6bc836eb",
   "metadata": {},
   "source": [
    "Matrix multiplication is not commutative, therefor AD and DA are different."
   ]
  },
  {
   "cell_type": "markdown",
   "id": "4f8e0eb6",
   "metadata": {},
   "source": [
    "Find inverse of B:\n",
    "\n",
    "$$\\left(\\begin{array}{ccc|ccc}  \n",
    "5 & 2 & 3 & 1 & 0 & 0\\\\\n",
    "6 & 1 & 3 & 0 & 1 & 0\\\\\n",
    "2 & 4 & 1 & 0 & 0 & 1\n",
    "\\end{array}\\right)\n",
    "$$\n",
    "\n",
    "$$\\left(\\begin{array}{ccc|ccc}  \n",
    "1 & -1 & 0 & -1 & 1 & 0\\\\\n",
    "6 & 1 & 3 & 0 & 1 & 0\\\\\n",
    "2 & 4 & 1 & 0 & 0 & 1\n",
    "\\end{array}\\right)\n",
    "$$\n",
    "\n",
    "$$\\left(\\begin{array}{ccc|ccc}  \n",
    "1 & -1 & 0 & -1 & 1 & 0\\\\\n",
    "0 & 7 & 3 & 6 & -5 & 0\\\\\n",
    "0 & 6 & 1 & 2 & -2 & 1\n",
    "\\end{array}\\right)\n",
    "$$\n",
    "\n",
    "$$\\left(\\begin{array}{ccc|ccc}  \n",
    "1 & -1 & 0 & -1 & 1 & 0\\\\\n",
    "0 & 1 & 0 & 0 & -\\frac{1}{11} & \\frac{3}{11}\\\\\n",
    "0 & 6 & 1 & 2 & -2 & 1\n",
    "\\end{array}\\right)\n",
    "$$\n",
    "\n",
    "$$\\left(\\begin{array}{ccc|ccc}  \n",
    "1 & 0 & 0 & -1 & \\frac{10}{11} & \\frac{3}{11}\\\\\n",
    "0 & 1 & 0 & 0 & -\\frac{1}{11} & \\frac{3}{11}\\\\\n",
    "0 & 0 & 1 & 2 & -\\frac{16}{11} & -\\frac{7}{11}\n",
    "\\end{array}\\right)\n",
    "$$"
   ]
  },
  {
   "cell_type": "code",
   "execution_count": 5,
   "id": "5ee13408",
   "metadata": {},
   "outputs": [
    {
     "name": "stdout",
     "output_type": "stream",
     "text": [
      "[[-1.          0.90909091  0.27272727]\n",
      " [ 0.         -0.09090909  0.27272727]\n",
      " [ 2.         -1.45454545 -0.63636364]]\n"
     ]
    }
   ],
   "source": [
    "matrix_B = np.array([5, 2, 3, 6, 1, 3, 2, 4, 1])\n",
    "matrix_B = matrix_B.reshape(3, 3)\n",
    "inverse_B = np.linalg.inv(matrix_B)\n",
    "print(inverse_B)"
   ]
  },
  {
   "cell_type": "code",
   "execution_count": 6,
   "id": "f1a7a3f0",
   "metadata": {},
   "outputs": [
    {
     "name": "stdout",
     "output_type": "stream",
     "text": [
      "D * D^-1:\n",
      "[[ 1.00000000e+00  1.11022302e-16  0.00000000e+00]\n",
      " [ 1.38777878e-17  1.00000000e+00  0.00000000e+00]\n",
      " [ 5.55111512e-17 -8.32667268e-17  1.00000000e+00]]\n",
      "D^-1 * D:\n",
      "[[ 1.00000000e+00  2.49800181e-16 -2.77555756e-17]\n",
      " [ 2.77555756e-17  1.00000000e+00  0.00000000e+00]\n",
      " [ 0.00000000e+00  0.00000000e+00  1.00000000e+00]]\n"
     ]
    }
   ],
   "source": [
    "inverse_D = np.linalg.inv(matrix_D)\n",
    "matrix_D_invD = np.matmul(matrix_D, inverse_D)\n",
    "matrix_invD_D = np.matmul(inverse_D, matrix_D)\n",
    "print(\"D * D^-1:\")\n",
    "print(matrix_D_invD)\n",
    "print(\"D^-1 * D:\")\n",
    "print(matrix_invD_D)"
   ]
  },
  {
   "cell_type": "markdown",
   "id": "407f88b8",
   "metadata": {},
   "source": [
    "Due to floating point number percision, D inverse is not the exact value, thus the result of $DD^{-1}$ and $D^{-1}D$ have small residuals in places where it should be 0 in an identity matrix."
   ]
  },
  {
   "cell_type": "markdown",
   "id": "359fbd09",
   "metadata": {},
   "source": [
    "<h3>Bag of Words for [college student, airport taxi driver, Toronto art museum, life art, machine learning student]</h3>"
   ]
  },
  {
   "cell_type": "code",
   "execution_count": 7,
   "id": "bf82439d",
   "metadata": {},
   "outputs": [
    {
     "data": {
      "text/html": [
       "<div>\n",
       "<style scoped>\n",
       "    .dataframe tbody tr th:only-of-type {\n",
       "        vertical-align: middle;\n",
       "    }\n",
       "\n",
       "    .dataframe tbody tr th {\n",
       "        vertical-align: top;\n",
       "    }\n",
       "\n",
       "    .dataframe thead th {\n",
       "        text-align: right;\n",
       "    }\n",
       "</style>\n",
       "<table border=\"1\" class=\"dataframe\">\n",
       "  <thead>\n",
       "    <tr style=\"text-align: right;\">\n",
       "      <th></th>\n",
       "      <th>college</th>\n",
       "      <th>student</th>\n",
       "      <th>airport</th>\n",
       "      <th>taxi</th>\n",
       "      <th>driver</th>\n",
       "      <th>Toronto</th>\n",
       "      <th>art</th>\n",
       "      <th>museum</th>\n",
       "      <th>life</th>\n",
       "      <th>machine</th>\n",
       "      <th>learning</th>\n",
       "    </tr>\n",
       "  </thead>\n",
       "  <tbody>\n",
       "    <tr>\n",
       "      <th>college student</th>\n",
       "      <td>1</td>\n",
       "      <td>1</td>\n",
       "      <td>0</td>\n",
       "      <td>0</td>\n",
       "      <td>0</td>\n",
       "      <td>0</td>\n",
       "      <td>0</td>\n",
       "      <td>0</td>\n",
       "      <td>0</td>\n",
       "      <td>0</td>\n",
       "      <td>0</td>\n",
       "    </tr>\n",
       "    <tr>\n",
       "      <th>airport taxi driver</th>\n",
       "      <td>0</td>\n",
       "      <td>0</td>\n",
       "      <td>1</td>\n",
       "      <td>1</td>\n",
       "      <td>1</td>\n",
       "      <td>0</td>\n",
       "      <td>0</td>\n",
       "      <td>0</td>\n",
       "      <td>0</td>\n",
       "      <td>0</td>\n",
       "      <td>0</td>\n",
       "    </tr>\n",
       "    <tr>\n",
       "      <th>Toronto art museum</th>\n",
       "      <td>0</td>\n",
       "      <td>0</td>\n",
       "      <td>0</td>\n",
       "      <td>0</td>\n",
       "      <td>0</td>\n",
       "      <td>1</td>\n",
       "      <td>1</td>\n",
       "      <td>1</td>\n",
       "      <td>0</td>\n",
       "      <td>0</td>\n",
       "      <td>0</td>\n",
       "    </tr>\n",
       "    <tr>\n",
       "      <th>life art</th>\n",
       "      <td>0</td>\n",
       "      <td>0</td>\n",
       "      <td>0</td>\n",
       "      <td>0</td>\n",
       "      <td>0</td>\n",
       "      <td>0</td>\n",
       "      <td>1</td>\n",
       "      <td>0</td>\n",
       "      <td>1</td>\n",
       "      <td>0</td>\n",
       "      <td>0</td>\n",
       "    </tr>\n",
       "    <tr>\n",
       "      <th>machine learning student</th>\n",
       "      <td>0</td>\n",
       "      <td>1</td>\n",
       "      <td>0</td>\n",
       "      <td>0</td>\n",
       "      <td>0</td>\n",
       "      <td>0</td>\n",
       "      <td>0</td>\n",
       "      <td>0</td>\n",
       "      <td>0</td>\n",
       "      <td>1</td>\n",
       "      <td>1</td>\n",
       "    </tr>\n",
       "  </tbody>\n",
       "</table>\n",
       "</div>"
      ],
      "text/plain": [
       "                          college  student  airport  taxi  driver  Toronto  \\\n",
       "college student                 1        1        0     0       0        0   \n",
       "airport taxi driver             0        0        1     1       1        0   \n",
       "Toronto art museum              0        0        0     0       0        1   \n",
       "life art                        0        0        0     0       0        0   \n",
       "machine learning student        0        1        0     0       0        0   \n",
       "\n",
       "                          art  museum  life  machine  learning  \n",
       "college student             0       0     0        0         0  \n",
       "airport taxi driver         0       0     0        0         0  \n",
       "Toronto art museum          1       1     0        0         0  \n",
       "life art                    1       0     1        0         0  \n",
       "machine learning student    0       0     0        1         1  "
      ]
     },
     "execution_count": 7,
     "metadata": {},
     "output_type": "execute_result"
    }
   ],
   "source": [
    "import pandas as pd\n",
    "bag = pd.DataFrame({\"college student\" : [1, 1, 0, 0, 0, 0, 0, 0, 0, 0, 0],\n",
    "                    \"airport taxi driver\" : [0, 0, 1, 1, 1, 0, 0, 0, 0, 0, 0],\n",
    "                    \"Toronto art museum\" : [0, 0, 0, 0, 0, 1, 1, 1, 0, 0, 0],\n",
    "                    \"life art\" : [0, 0, 0, 0, 0, 0, 1, 0, 1, 0, 0],\n",
    "                    \"machine learning student\" : [0, 1, 0, 0, 0, 0, 0, 0, 0, 1, 1]})\n",
    "bag = bag.T\n",
    "bag.columns = [\"college\", \"student\", \"airport\", \"taxi\", \"driver\", \"Toronto\",\n",
    "               \"art\", \"museum\", \"life\", \"machine\", \"learning\"]\n",
    "bag"
   ]
  },
  {
   "cell_type": "markdown",
   "id": "276234f1",
   "metadata": {},
   "source": [
    "IDF(\"college\") $= log(\\frac{5}{1}) \\approx 0.699$\n",
    "\n",
    "IDF(\"art\") $= log(\\frac{5}{2}) \\approx 0.398$ "
   ]
  }
 ],
 "metadata": {
  "kernelspec": {
   "display_name": "Python 3 (ipykernel)",
   "language": "python",
   "name": "python3"
  },
  "language_info": {
   "codemirror_mode": {
    "name": "ipython",
    "version": 3
   },
   "file_extension": ".py",
   "mimetype": "text/x-python",
   "name": "python",
   "nbconvert_exporter": "python",
   "pygments_lexer": "ipython3",
   "version": "3.8.11"
  }
 },
 "nbformat": 4,
 "nbformat_minor": 5
}
