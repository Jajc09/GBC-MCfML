{
 "cells": [
  {
   "cell_type": "markdown",
   "metadata": {},
   "source": [
    "<p style=\"font-family: Arial; font-size:3em;color:black;\"> W1, Lab3 </p>"
   ]
  },
  {
   "cell_type": "markdown",
   "metadata": {},
   "source": [
    "Students name in this Group: <br>\n",
    "Javier Jiménez Cañizares 101371877<br>\n",
    "Luis Alberto Sosa Quintero 101369283<br>\n",
    "Ting Fu Kevin Tsai 101031370<br>\n",
    "Olanrewaju Yusuf 101364202<br>"
   ]
  },
  {
   "cell_type": "markdown",
   "metadata": {},
   "source": [
    "The process below shows how to implement a simple linear regression analysis for a vehicle pricing scenario. Re-run it and take note of the R-sqaured value. Then. change the std value in np.random.normal to 1, 5 and 10. Observe the change in R-sqaured. How do you explain the change in R-sqaured value?"
   ]
  },
  {
   "cell_type": "code",
   "execution_count": 1,
   "metadata": {},
   "outputs": [],
   "source": [
    "%matplotlib inline\n",
    "import numpy as np\n",
    "import matplotlib.pyplot as plt\n",
    "from sklearn.linear_model import LinearRegression\n",
    "from sklearn.model_selection import train_test_split\n",
    "from sklearn.metrics import r2_score\n",
    "from sklearn.metrics import mean_squared_error"
   ]
  },
  {
   "cell_type": "code",
   "execution_count": 2,
   "metadata": {},
   "outputs": [
    {
     "data": {
      "text/plain": [
       "<matplotlib.collections.PathCollection at 0x1c1f5914340>"
      ]
     },
     "execution_count": 2,
     "metadata": {},
     "output_type": "execute_result"
    },
    {
     "data": {
      "image/png": "[encoded data removed]",
      "text/plain": [
       "<Figure size 432x288 with 1 Axes>"
      ]
     },
     "metadata": {
      "needs_background": "light"
     },
     "output_type": "display_data"
    }
   ],
   "source": [
    "vehicle_age = np.random.uniform(0,10,1000)\n",
    "vehicle_price = 70000 - (vehicle_age + np.random.normal(0, 1, 1000)) * 3000\n",
    "\n",
    "vehicle_age_old = vehicle_age.copy()\n",
    "\n",
    "vehicle_age = vehicle_age.reshape(-1, 1)\n",
    "vehicle_price = vehicle_price.reshape(-1, 1)\n",
    "\n",
    "plt.scatter(vehicle_age, vehicle_price)"
   ]
  },
  {
   "cell_type": "code",
   "execution_count": 3,
   "metadata": {},
   "outputs": [
    {
     "name": "stdout",
     "output_type": "stream",
     "text": [
      "(800, 1)\n",
      "(200, 1)\n",
      "(800, 1)\n",
      "(200, 1)\n"
     ]
    }
   ],
   "source": [
    "#DIVIDE TRAIN AND TEST SETS\n",
    "X_train, X_test, Y_train, Y_test = train_test_split(vehicle_age,vehicle_price, test_size=0.2, random_state=1)\n",
    "print(X_train.shape)\n",
    "print(X_test.shape)\n",
    "print(Y_train.shape)\n",
    "print(Y_test.shape)"
   ]
  },
  {
   "cell_type": "code",
   "execution_count": 4,
   "metadata": {},
   "outputs": [
    {
     "data": {
      "text/plain": [
       "LinearRegression()"
      ]
     },
     "execution_count": 4,
     "metadata": {},
     "output_type": "execute_result"
    }
   ],
   "source": [
    "#CREATE THE LINEAR REGGRESION MODEL\n",
    "model = LinearRegression()\n",
    "model"
   ]
  },
  {
   "cell_type": "code",
   "execution_count": 5,
   "metadata": {},
   "outputs": [
    {
     "data": {
      "text/plain": [
       "LinearRegression()"
      ]
     },
     "execution_count": 5,
     "metadata": {},
     "output_type": "execute_result"
    }
   ],
   "source": [
    "#TRAIN MODEL\n",
    "model.fit(X_train,Y_train)"
   ]
  },
  {
   "cell_type": "code",
   "execution_count": 6,
   "metadata": {},
   "outputs": [
    {
     "data": {
      "text/plain": [
       "array([[68852.37498197],\n",
       "       [58933.94856028],\n",
       "       [59671.5863079 ],\n",
       "       [69469.91178351],\n",
       "       [54212.83866151],\n",
       "       [50716.44148667],\n",
       "       [67072.23558824],\n",
       "       [56590.72540557],\n",
       "       [69991.38468465],\n",
       "       [44281.67179419],\n",
       "       [59287.29470762],\n",
       "       [42575.11797406],\n",
       "       [66710.35629851],\n",
       "       [51577.47464442],\n",
       "       [42184.24036065],\n",
       "       [56964.33606784],\n",
       "       [50857.26901023],\n",
       "       [50500.61491236],\n",
       "       [68504.56667282],\n",
       "       [67400.93564882],\n",
       "       [59498.10051886],\n",
       "       [56973.32848702],\n",
       "       [56239.82726716],\n",
       "       [65534.00245783],\n",
       "       [47448.38755979],\n",
       "       [41673.68559337],\n",
       "       [56724.53535712],\n",
       "       [45054.79113009],\n",
       "       [61316.06205853],\n",
       "       [42307.31457681],\n",
       "       [54593.08658095],\n",
       "       [50485.38720944],\n",
       "       [62976.01016349],\n",
       "       [54542.51271004],\n",
       "       [54015.63811624],\n",
       "       [67372.67162878],\n",
       "       [41539.03983518],\n",
       "       [65284.59165743],\n",
       "       [54755.25550838],\n",
       "       [60676.60879295],\n",
       "       [55721.23637982],\n",
       "       [53803.55584453],\n",
       "       [67504.48190335],\n",
       "       [66017.7134735 ],\n",
       "       [68652.31989305],\n",
       "       [67464.19328211],\n",
       "       [69962.11030448],\n",
       "       [40769.95481178],\n",
       "       [65688.15211542],\n",
       "       [65726.87980625],\n",
       "       [59160.28648663],\n",
       "       [45936.73992019],\n",
       "       [51606.92028797],\n",
       "       [44501.26769969],\n",
       "       [62425.86941397],\n",
       "       [43718.69380978],\n",
       "       [51932.88073297],\n",
       "       [52120.48852275],\n",
       "       [49835.20675878],\n",
       "       [61367.18890726],\n",
       "       [60361.65596581],\n",
       "       [61946.04296396],\n",
       "       [46255.37702072],\n",
       "       [62931.88332842],\n",
       "       [49182.86044056],\n",
       "       [46656.66780285],\n",
       "       [48238.87710442],\n",
       "       [49029.53685468],\n",
       "       [44018.07610056],\n",
       "       [63177.65927026],\n",
       "       [44822.10851592],\n",
       "       [52938.80666702],\n",
       "       [53866.17478653],\n",
       "       [69736.14339039],\n",
       "       [50428.76763951],\n",
       "       [54876.05641404],\n",
       "       [44187.26862564],\n",
       "       [52791.61517203],\n",
       "       [65169.44179022],\n",
       "       [46679.64078938],\n",
       "       [68201.28621794],\n",
       "       [50143.15884114],\n",
       "       [68523.03024499],\n",
       "       [60549.31529876],\n",
       "       [48583.78894812],\n",
       "       [61977.79947834],\n",
       "       [44895.50492753],\n",
       "       [51253.79629297],\n",
       "       [61012.81149001],\n",
       "       [57832.5956406 ],\n",
       "       [62186.24587971],\n",
       "       [60755.16770871],\n",
       "       [44425.69544659],\n",
       "       [48562.28897419],\n",
       "       [58277.08794095],\n",
       "       [49341.09743001],\n",
       "       [53377.21345244],\n",
       "       [57489.19785017],\n",
       "       [61829.32948043],\n",
       "       [50757.48300769],\n",
       "       [54465.96063641],\n",
       "       [45099.0736142 ],\n",
       "       [63416.83149236],\n",
       "       [43481.12635239],\n",
       "       [45805.31760401],\n",
       "       [41674.75798248],\n",
       "       [54738.09891786],\n",
       "       [62714.90663354],\n",
       "       [61446.77144806],\n",
       "       [49878.84189377],\n",
       "       [55104.72043736],\n",
       "       [43204.68590619],\n",
       "       [68507.83828515],\n",
       "       [53565.90234557],\n",
       "       [68519.86542407],\n",
       "       [69236.14940912],\n",
       "       [62901.740332  ],\n",
       "       [41548.88556327],\n",
       "       [60905.57413211],\n",
       "       [51602.0276477 ],\n",
       "       [64417.56729061],\n",
       "       [63009.67983154],\n",
       "       [60403.32031972],\n",
       "       [42797.33099123],\n",
       "       [67785.59851509],\n",
       "       [56058.74187936],\n",
       "       [48494.71358299],\n",
       "       [52340.35061062],\n",
       "       [50576.8434556 ],\n",
       "       [68878.78808619],\n",
       "       [65062.06732136],\n",
       "       [41241.11119256],\n",
       "       [47487.06783492],\n",
       "       [69826.98637626],\n",
       "       [54282.90524452],\n",
       "       [40339.56926159],\n",
       "       [63474.82339117],\n",
       "       [63547.16734041],\n",
       "       [50246.07458415],\n",
       "       [58807.90608243],\n",
       "       [55824.19463185],\n",
       "       [66266.91074938],\n",
       "       [55517.10570726],\n",
       "       [52016.38556705],\n",
       "       [63316.23779149],\n",
       "       [52630.42900671],\n",
       "       [44810.26010608],\n",
       "       [44147.2909445 ],\n",
       "       [55902.65232512],\n",
       "       [63284.92301972],\n",
       "       [44659.1516888 ],\n",
       "       [41863.70438951],\n",
       "       [49927.42787837],\n",
       "       [67424.13569811],\n",
       "       [66973.08463903],\n",
       "       [55814.75671391],\n",
       "       [45684.72513711],\n",
       "       [57278.90407466],\n",
       "       [58058.74161331],\n",
       "       [40226.74640683],\n",
       "       [47448.07702169],\n",
       "       [41980.22602609],\n",
       "       [58165.95933169],\n",
       "       [69221.03478902],\n",
       "       [62779.51750777],\n",
       "       [50699.85396513],\n",
       "       [42991.75798533],\n",
       "       [55480.85752518],\n",
       "       [45291.46526358],\n",
       "       [48406.17339472],\n",
       "       [42567.76686901],\n",
       "       [61680.07645888],\n",
       "       [46673.37410355],\n",
       "       [63623.80658691],\n",
       "       [57171.57977598],\n",
       "       [62315.38801166],\n",
       "       [50086.08333169],\n",
       "       [62086.08866626],\n",
       "       [66512.58188713],\n",
       "       [66324.21177818],\n",
       "       [53988.46019657],\n",
       "       [42699.00615695],\n",
       "       [47753.49859453],\n",
       "       [40532.98341439],\n",
       "       [46137.91086397],\n",
       "       [68262.21133612],\n",
       "       [54594.08893737],\n",
       "       [64795.43031087],\n",
       "       [66640.82173828],\n",
       "       [51239.44288117],\n",
       "       [51650.95953531],\n",
       "       [42043.30562331],\n",
       "       [57855.68694092],\n",
       "       [54231.85108426],\n",
       "       [57325.43877477],\n",
       "       [68065.9492591 ],\n",
       "       [52149.52680066],\n",
       "       [54075.9061358 ],\n",
       "       [69853.71701144],\n",
       "       [53968.81555161]])"
      ]
     },
     "execution_count": 6,
     "metadata": {},
     "output_type": "execute_result"
    }
   ],
   "source": [
    "#APPLY THE MODEL\n",
    "yfit = model.predict(X_test)\n",
    "yfit"
   ]
  },
  {
   "cell_type": "code",
   "execution_count": 7,
   "metadata": {},
   "outputs": [
    {
     "name": "stdout",
     "output_type": "stream",
     "text": [
      "r2 socre:  0.9082429366420948\n"
     ]
    }
   ],
   "source": [
    "#CHECK MODEL´S ACCURACY\n",
    "score=r2_score(Y_test,yfit)\n",
    "print('r2 socre: ',score)"
   ]
  },
  {
   "cell_type": "markdown",
   "metadata": {},
   "source": [
    "### We´ll do the same for np.random.normal to 1, 5 and 10"
   ]
  },
  {
   "cell_type": "code",
   "execution_count": 8,
   "metadata": {},
   "outputs": [
    {
     "data": {
      "text/plain": [
       "<matplotlib.collections.PathCollection at 0x1c1f709a3d0>"
      ]
     },
     "execution_count": 8,
     "metadata": {},
     "output_type": "execute_result"
    },
    {
     "data": {
      "image/png": "[encoded data removed]",
      "text/plain": [
       "<Figure size 432x288 with 1 Axes>"
      ]
     },
     "metadata": {
      "needs_background": "light"
     },
     "output_type": "display_data"
    }
   ],
   "source": [
    "vehicle_price = 70000 - (vehicle_age_old + np.random.normal(0, 5, 1000)) * 3000\n",
    "\n",
    "vehicle_price = vehicle_price.reshape(-1, 1)\n",
    "\n",
    "plt.scatter(vehicle_age, vehicle_price)"
   ]
  },
  {
   "cell_type": "code",
   "execution_count": 9,
   "metadata": {},
   "outputs": [
    {
     "name": "stdout",
     "output_type": "stream",
     "text": [
      "(800, 1)\n",
      "(200, 1)\n",
      "(800, 1)\n",
      "(200, 1)\n"
     ]
    }
   ],
   "source": [
    "#DIVIDE TRAIN AND TEST SETS\n",
    "X_train, X_test, Y_train, Y_test = train_test_split(vehicle_age,vehicle_price, test_size=0.2, random_state=1)\n",
    "print(X_train.shape)\n",
    "print(X_test.shape)\n",
    "print(Y_train.shape)\n",
    "print(Y_test.shape)"
   ]
  },
  {
   "cell_type": "code",
   "execution_count": 10,
   "metadata": {},
   "outputs": [
    {
     "data": {
      "text/plain": [
       "LinearRegression()"
      ]
     },
     "execution_count": 10,
     "metadata": {},
     "output_type": "execute_result"
    }
   ],
   "source": [
    "#CREATE THE LINEAR REGGRESION MODEL\n",
    "model = LinearRegression()\n",
    "model"
   ]
  },
  {
   "cell_type": "code",
   "execution_count": 11,
   "metadata": {},
   "outputs": [
    {
     "data": {
      "text/plain": [
       "LinearRegression()"
      ]
     },
     "execution_count": 11,
     "metadata": {},
     "output_type": "execute_result"
    }
   ],
   "source": [
    "#TRAIN MODEL\n",
    "model.fit(X_train,Y_train)"
   ]
  },
  {
   "cell_type": "code",
   "execution_count": 12,
   "metadata": {},
   "outputs": [
    {
     "data": {
      "text/plain": [
       "array([[69554.56548213],\n",
       "       [58851.3882811 ],\n",
       "       [59647.3882903 ],\n",
       "       [70220.96209929],\n",
       "       [53756.74184388],\n",
       "       [49983.70800399],\n",
       "       [67633.58058356],\n",
       "       [56322.76815729],\n",
       "       [70783.69419299],\n",
       "       [43039.81616689],\n",
       "       [59232.6913495 ],\n",
       "       [41198.23896871],\n",
       "       [67243.06922634],\n",
       "       [50912.86652889],\n",
       "       [40776.43492618],\n",
       "       [56725.93907901],\n",
       "       [50135.67787051],\n",
       "       [49750.80512491],\n",
       "       [69179.2384084 ],\n",
       "       [67988.28755469],\n",
       "       [59460.17622026],\n",
       "       [56735.64298282],\n",
       "       [55944.10678549],\n",
       "       [65973.64169091],\n",
       "       [46457.0840422 ],\n",
       "       [40225.48481447],\n",
       "       [56467.16521805],\n",
       "       [43874.10508509],\n",
       "       [61421.97577156],\n",
       "       [40909.24683489],\n",
       "       [54167.07516583],\n",
       "       [49734.37259864],\n",
       "       [63213.25978745],\n",
       "       [54112.49986536],\n",
       "       [53543.93869443],\n",
       "       [67957.78727147],\n",
       "       [40080.18581764],\n",
       "       [65704.49738524],\n",
       "       [54342.07497859],\n",
       "       [60731.92864893],\n",
       "       [55384.48473194],\n",
       "       [53315.07636901],\n",
       "       [68100.02643982],\n",
       "       [66495.62416017],\n",
       "       [69338.68193612],\n",
       "       [68056.55016305],\n",
       "       [70752.10360945],\n",
       "       [39250.25040872],\n",
       "       [66139.98774526],\n",
       "       [66181.77959005],\n",
       "       [59095.63417556],\n",
       "       [44825.83409748],\n",
       "       [50944.64192625],\n",
       "       [43276.78660849],\n",
       "       [62619.59163111],\n",
       "       [42432.29508732],\n",
       "       [51296.39252206],\n",
       "       [51498.8439325 ],\n",
       "       [49032.74955077],\n",
       "       [61477.14780173],\n",
       "       [60392.05659913],\n",
       "       [62101.80107624],\n",
       "       [45169.6819222 ],\n",
       "       [63165.64161547],\n",
       "       [48328.78927084],\n",
       "       [45602.72302849],\n",
       "       [47310.1175086 ],\n",
       "       [48163.33464739],\n",
       "       [42755.36465227],\n",
       "       [63430.86347078],\n",
       "       [43623.01250799],\n",
       "       [52381.90781103],\n",
       "       [53382.64975251],\n",
       "       [70508.25808192],\n",
       "       [49673.27326048],\n",
       "       [54472.43371135],\n",
       "       [42937.94377319],\n",
       "       [52223.07045253],\n",
       "       [65580.23680387],\n",
       "       [45627.51364902],\n",
       "       [68851.96225468],\n",
       "       [49365.06695343],\n",
       "       [69199.16282748],\n",
       "       [60594.56363085],\n",
       "       [47682.31894711],\n",
       "       [62136.07018167],\n",
       "       [43702.21607981],\n",
       "       [50563.578587  ],\n",
       "       [61094.73186884],\n",
       "       [57662.89577643],\n",
       "       [62361.00896489],\n",
       "       [60816.70318477],\n",
       "       [43195.23504155],\n",
       "       [47659.11788467],\n",
       "       [58142.55652632],\n",
       "       [48499.54604876],\n",
       "       [52855.00155705],\n",
       "       [57292.32818384],\n",
       "       [61975.85316446],\n",
       "       [50027.99675035],\n",
       "       [54029.89095399],\n",
       "       [43921.89122114],\n",
       "       [63688.95911679],\n",
       "       [42175.93117578],\n",
       "       [44684.01358297],\n",
       "       [40226.64205153],\n",
       "       [54323.5609502 ],\n",
       "       [62931.49761772],\n",
       "       [61563.02695232],\n",
       "       [49079.83711911],\n",
       "       [54719.18974473],\n",
       "       [41877.61862545],\n",
       "       [69182.7688723 ],\n",
       "       [53058.61960827],\n",
       "       [69195.74760437],\n",
       "       [69968.70433081],\n",
       "       [63133.11369034],\n",
       "       [40090.81054457],\n",
       "       [60979.0098384 ],\n",
       "       [50939.36217788],\n",
       "       [64768.87362386],\n",
       "       [63249.59341621],\n",
       "       [60437.01745722],\n",
       "       [41438.03358915],\n",
       "       [68403.38513622],\n",
       "       [55748.69383269],\n",
       "       [47586.19589526],\n",
       "       [51736.10161695],\n",
       "       [49833.064908  ],\n",
       "       [69583.06840415],\n",
       "       [65464.3668142 ],\n",
       "       [39758.6849142 ],\n",
       "       [46498.82471974],\n",
       "       [70606.28860954],\n",
       "       [53832.35212942],\n",
       "       [38785.812542  ],\n",
       "       [63751.53936317],\n",
       "       [63829.60720127],\n",
       "       [49476.12544067],\n",
       "       [58715.37326037],\n",
       "       [55495.58909154],\n",
       "       [66764.53804714],\n",
       "       [55164.20314011],\n",
       "       [51386.50429971],\n",
       "       [63580.4063928 ],\n",
       "       [52049.13115849],\n",
       "       [43610.22664614],\n",
       "       [42894.80303824],\n",
       "       [55580.25439611],\n",
       "       [63546.61398088],\n",
       "       [43447.16245652],\n",
       "       [40430.53799127],\n",
       "       [49132.26725072],\n",
       "       [68013.32320329],\n",
       "       [67526.58476245],\n",
       "       [55485.40444089],\n",
       "       [44553.87978074],\n",
       "       [57065.39586132],\n",
       "       [57906.93452979],\n",
       "       [38664.06308745],\n",
       "       [46456.74893418],\n",
       "       [40556.27887707],\n",
       "       [58022.63536682],\n",
       "       [69952.39383452],\n",
       "       [63001.22053611],\n",
       "       [49965.80806958],\n",
       "       [41647.8437427 ],\n",
       "       [55125.08698404],\n",
       "       [44129.50499249],\n",
       "       [47490.65036372],\n",
       "       [41190.30624062],\n",
       "       [61814.7911704 ],\n",
       "       [45620.75113992],\n",
       "       [63912.31018267],\n",
       "       [56949.58001132],\n",
       "       [62500.36888588],\n",
       "       [49303.47560159],\n",
       "       [62252.92726343],\n",
       "       [67029.6468062 ],\n",
       "       [66826.37276155],\n",
       "       [53514.61044438],\n",
       "       [41331.9292456 ],\n",
       "       [46786.33561216],\n",
       "       [38994.52971775],\n",
       "       [45042.92178532],\n",
       "       [68917.70779819],\n",
       "       [54168.15682918],\n",
       "       [65176.63335222],\n",
       "       [67168.03305749],\n",
       "       [50548.08952619],\n",
       "       [50992.16558051],\n",
       "       [40624.34936307],\n",
       "       [57687.8140718 ],\n",
       "       [53777.25853888],\n",
       "       [57115.61240981],\n",
       "       [68705.91736906],\n",
       "       [51530.17973324],\n",
       "       [53608.97514935],\n",
       "       [70635.13418573],\n",
       "       [53493.41150544]])"
      ]
     },
     "execution_count": 12,
     "metadata": {},
     "output_type": "execute_result"
    }
   ],
   "source": [
    "#APPLY THE MODEL\n",
    "yfit = model.predict(X_test)\n",
    "yfit"
   ]
  },
  {
   "cell_type": "code",
   "execution_count": 13,
   "metadata": {},
   "outputs": [
    {
     "name": "stdout",
     "output_type": "stream",
     "text": [
      "r2 socre:  0.15078447568137976\n"
     ]
    }
   ],
   "source": [
    "#CHECK MODEL´S ACCURACY\n",
    "score=r2_score(Y_test,yfit)\n",
    "print('r2 socre: ',score)"
   ]
  },
  {
   "cell_type": "code",
   "execution_count": 14,
   "metadata": {},
   "outputs": [
    {
     "data": {
      "text/plain": [
       "<matplotlib.collections.PathCollection at 0x1c1f71046a0>"
      ]
     },
     "execution_count": 14,
     "metadata": {},
     "output_type": "execute_result"
    },
    {
     "data": {
      "image/png": "[encoded data removed]",
      "text/plain": [
       "<Figure size 432x288 with 1 Axes>"
      ]
     },
     "metadata": {
      "needs_background": "light"
     },
     "output_type": "display_data"
    }
   ],
   "source": [
    "vehicle_price = 70000 - (vehicle_age_old + np.random.normal(0, 10, 1000)) * 3000\n",
    "\n",
    "vehicle_price = vehicle_price.reshape(-1, 1)\n",
    "\n",
    "plt.scatter(vehicle_age, vehicle_price)"
   ]
  },
  {
   "cell_type": "code",
   "execution_count": 15,
   "metadata": {},
   "outputs": [
    {
     "name": "stdout",
     "output_type": "stream",
     "text": [
      "(800, 1)\n",
      "(200, 1)\n",
      "(800, 1)\n",
      "(200, 1)\n"
     ]
    }
   ],
   "source": [
    "X_train, X_test, Y_train, Y_test = train_test_split(vehicle_age,vehicle_price, test_size=0.2, random_state=1)\n",
    "print(X_train.shape)\n",
    "print(X_test.shape)\n",
    "print(Y_train.shape)\n",
    "print(Y_test.shape)"
   ]
  },
  {
   "cell_type": "code",
   "execution_count": 16,
   "metadata": {},
   "outputs": [
    {
     "data": {
      "text/plain": [
       "LinearRegression()"
      ]
     },
     "execution_count": 16,
     "metadata": {},
     "output_type": "execute_result"
    }
   ],
   "source": [
    "#CREATE THE LINEAR REGGRESION MODEL\n",
    "model = LinearRegression()\n",
    "model"
   ]
  },
  {
   "cell_type": "code",
   "execution_count": 17,
   "metadata": {},
   "outputs": [
    {
     "data": {
      "text/plain": [
       "LinearRegression()"
      ]
     },
     "execution_count": 17,
     "metadata": {},
     "output_type": "execute_result"
    }
   ],
   "source": [
    "#TRAIN MODEL\n",
    "model.fit(X_train,Y_train)"
   ]
  },
  {
   "cell_type": "code",
   "execution_count": 18,
   "metadata": {},
   "outputs": [
    {
     "data": {
      "text/plain": [
       "array([[67471.81826853],\n",
       "       [59759.21815827],\n",
       "       [60332.8076302 ],\n",
       "       [67952.01686063],\n",
       "       [56088.0680002 ],\n",
       "       [53369.25837359],\n",
       "       [66087.57618207],\n",
       "       [57937.12033821],\n",
       "       [68357.51585653],\n",
       "       [48365.56087867],\n",
       "       [60033.98125264],\n",
       "       [47038.53916961],\n",
       "       [65806.17768888],\n",
       "       [54038.80051112],\n",
       "       [46734.59148717],\n",
       "       [58227.64118421],\n",
       "       [53478.76630635],\n",
       "       [53201.43093906],\n",
       "       [67201.36141484],\n",
       "       [66343.17440055],\n",
       "       [60197.90452574],\n",
       "       [58234.63371813],\n",
       "       [57664.26082341],\n",
       "       [64891.44117972],\n",
       "       [50828.00918695],\n",
       "       [46337.58246709],\n",
       "       [58041.17138453],\n",
       "       [48966.74094713],\n",
       "       [61611.55723386],\n",
       "       [46830.29439132],\n",
       "       [56383.74999861],\n",
       "       [53189.58982857],\n",
       "       [62902.33818973],\n",
       "       [56344.42359482],\n",
       "       [55934.72422544],\n",
       "       [66321.19620816],\n",
       "       [46232.88149485],\n",
       "       [64697.49854357],\n",
       "       [56509.85307528],\n",
       "       [61114.31632921],\n",
       "       [57261.00289067],\n",
       "       [55769.80837259],\n",
       "       [66423.69229926],\n",
       "       [65267.57641269],\n",
       "       [67316.25479149],\n",
       "       [66392.36373852],\n",
       "       [68334.75200487],\n",
       "       [45634.83852069],\n",
       "       [65011.30844652],\n",
       "       [65041.42322279],\n",
       "       [59935.21925376],\n",
       "       [49652.54714729],\n",
       "       [54061.69753773],\n",
       "       [48536.31935717],\n",
       "       [62474.54698324],\n",
       "       [47927.78739727],\n",
       "       [54315.16542237],\n",
       "       [54461.04983978],\n",
       "       [52684.00743049],\n",
       "       [61651.31363496],\n",
       "       [60869.40800343],\n",
       "       [62101.43240096],\n",
       "       [49900.32037584],\n",
       "       [62868.02502164],\n",
       "       [52176.74084687],\n",
       "       [50212.36537158],\n",
       "       [51442.69638529],\n",
       "       [52057.51593607],\n",
       "       [48160.58802417],\n",
       "       [63059.14118015],\n",
       "       [48785.8062021 ],\n",
       "       [55097.37664621],\n",
       "       [55818.50106219],\n",
       "       [68159.03940971],\n",
       "       [53145.56226989],\n",
       "       [56603.78824591],\n",
       "       [48292.15267285],\n",
       "       [54982.9200689 ],\n",
       "       [64607.95763851],\n",
       "       [50230.22923939],\n",
       "       [66965.52956306],\n",
       "       [52923.47195473],\n",
       "       [67215.71874762],\n",
       "       [61015.33250097],\n",
       "       [51710.90093817],\n",
       "       [62126.12636811],\n",
       "       [48842.87948654],\n",
       "       [53787.10718973],\n",
       "       [61375.74862181],\n",
       "       [58902.80260517],\n",
       "       [62288.21495655],\n",
       "       [61175.40399338],\n",
       "       [48477.55413145],\n",
       "       [51694.18248968],\n",
       "       [59248.44123966],\n",
       "       [52299.786436  ],\n",
       "       [55438.28316482],\n",
       "       [58635.77538496],\n",
       "       [62010.67562285],\n",
       "       [53401.1723916 ],\n",
       "       [56284.89645751],\n",
       "       [49001.17514842],\n",
       "       [63245.12226506],\n",
       "       [47743.05418252],\n",
       "       [49550.35273387],\n",
       "       [46338.41636029],\n",
       "       [56496.51205562],\n",
       "       [62699.30324968],\n",
       "       [61713.19727324],\n",
       "       [52717.93825102],\n",
       "       [56781.59812185],\n",
       "       [47528.09320735],\n",
       "       [67203.90543106],\n",
       "       [55585.00825166],\n",
       "       [67213.25777275],\n",
       "       [67770.24249061],\n",
       "       [62844.5857312 ],\n",
       "       [46240.5375645 ],\n",
       "       [61292.3605093 ],\n",
       "       [54057.89300501],\n",
       "       [64023.2976227 ],\n",
       "       [62928.5198313 ],\n",
       "       [60901.80633829],\n",
       "       [47211.33272252],\n",
       "       [66642.28947572],\n",
       "       [57523.44824665],\n",
       "       [51641.63564934],\n",
       "       [54632.01530255],\n",
       "       [53260.70649811],\n",
       "       [67492.35718285],\n",
       "       [64524.46290808],\n",
       "       [46001.2112294 ],\n",
       "       [50858.08709261],\n",
       "       [68229.67920609],\n",
       "       [56142.55199926],\n",
       "       [45300.16934024],\n",
       "       [63290.21695106],\n",
       "       [63346.47183739],\n",
       "       [53003.49956568],\n",
       "       [59661.20712434],\n",
       "       [57341.06355676],\n",
       "       [65461.35301148],\n",
       "       [57102.27022676],\n",
       "       [54380.09904845],\n",
       "       [63166.9002815 ],\n",
       "       [54857.58119119],\n",
       "       [48776.59284072],\n",
       "       [48261.06590012],\n",
       "       [57402.07251001],\n",
       "       [63142.54981482],\n",
       "       [48659.09045211],\n",
       "       [46485.34169076],\n",
       "       [52755.71886805],\n",
       "       [66361.21483308],\n",
       "       [66010.47608682],\n",
       "       [57333.72460159],\n",
       "       [49456.57964588],\n",
       "       [58472.25027248],\n",
       "       [59078.6544369 ],\n",
       "       [45212.4379275 ],\n",
       "       [50827.76771153],\n",
       "       [46575.94928806],\n",
       "       [59162.02727766],\n",
       "       [67758.48931367],\n",
       "       [62749.54487215],\n",
       "       [53356.35986378],\n",
       "       [47362.51977502],\n",
       "       [57074.08352444],\n",
       "       [49150.77951035],\n",
       "       [51572.78651574],\n",
       "       [47032.82292681],\n",
       "       [61894.6159959 ],\n",
       "       [50225.35624445],\n",
       "       [63406.0667606 ],\n",
       "       [58388.79455454],\n",
       "       [62388.63629142],\n",
       "       [52879.08985603],\n",
       "       [62210.33238701],\n",
       "       [65652.38767399],\n",
       "       [65505.91047476],\n",
       "       [55913.59058817],\n",
       "       [47134.87501689],\n",
       "       [51065.26450349],\n",
       "       [45450.5688041 ],\n",
       "       [49808.97831663],\n",
       "       [67012.90512983],\n",
       "       [56384.52943416],\n",
       "       [64317.12511587],\n",
       "       [65752.10739243],\n",
       "       [53775.9459308 ],\n",
       "       [54095.94259732],\n",
       "       [46625.00018463],\n",
       "       [58920.75847416],\n",
       "       [56102.85212095],\n",
       "       [58508.43580413],\n",
       "       [66860.29111099],\n",
       "       [54483.63009756],\n",
       "       [55981.58883022],\n",
       "       [68250.4650335 ],\n",
       "       [55898.31484942]])"
      ]
     },
     "execution_count": 18,
     "metadata": {},
     "output_type": "execute_result"
    }
   ],
   "source": [
    "#APPLY THE MODEL\n",
    "yfit = model.predict(X_test)\n",
    "yfit"
   ]
  },
  {
   "cell_type": "code",
   "execution_count": 19,
   "metadata": {},
   "outputs": [
    {
     "name": "stdout",
     "output_type": "stream",
     "text": [
      "r2 socre:  0.05326426959461361\n"
     ]
    }
   ],
   "source": [
    "#CHECK MODEL´S ACCURACY\n",
    "score=r2_score(Y_test,yfit)\n",
    "print('r2 socre: ',score)"
   ]
  },
  {
   "cell_type": "markdown",
   "metadata": {},
   "source": [
    "# ANSWER: "
   ]
  },
  {
   "cell_type": "markdown",
   "metadata": {},
   "source": [
    "### As the data gets more sparsed it is more difficult predict the data using a simple line. So the accuracy of the model decreases (shown by lower r2 score)."
   ]
  }
 ],
 "metadata": {
  "kernelspec": {
   "display_name": "Python 3 (ipykernel)",
   "language": "python",
   "name": "python3"
  },
  "language_info": {
   "codemirror_mode": {
    "name": "ipython",
    "version": 3
   },
   "file_extension": ".py",
   "mimetype": "text/x-python",
   "name": "python",
   "nbconvert_exporter": "python",
   "pygments_lexer": "ipython3",
   "version": "3.8.11"
  }
 },
 "nbformat": 4,
 "nbformat_minor": 1
}
