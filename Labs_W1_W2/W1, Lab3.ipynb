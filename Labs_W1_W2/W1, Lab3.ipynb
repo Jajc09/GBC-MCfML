{
 "cells": [
  {
   "cell_type": "markdown",
   "metadata": {},
   "source": [
    "<p style=\"font-family: Arial; font-size:3em;color:black;\"> W1, Lab3 </p>"
   ]
  },
  {
   "cell_type": "markdown",
   "metadata": {},
   "source": [
    "The process below shows how to implement a simple linear regression analysis for a vehicle pricing scenario. Re-run it and take note of the R-sqaured value. Then. change the std value in np.random.normal to 1, 5 and 10. Observe the change in R-sqaured. How do you explain the change in R-sqaured value?"
   ]
  },
  {
   "cell_type": "code",
   "execution_count": 13,
   "metadata": {},
   "outputs": [],
   "source": [
    "%matplotlib inline\n",
    "import numpy as np\n",
    "import matplotlib.pyplot as plt\n",
    "from sklearn.linear_model import LinearRegression\n",
    "from sklearn.model_selection import train_test_split\n",
    "from sklearn.metrics import r2_score\n",
    "from sklearn.metrics import mean_squared_error"
   ]
  },
  {
   "cell_type": "code",
   "execution_count": 8,
   "metadata": {},
   "outputs": [
    {
     "data": {
      "text/plain": [
       "<matplotlib.collections.PathCollection at 0xbb6f66cee0>"
      ]
     },
     "execution_count": 8,
     "metadata": {},
     "output_type": "execute_result"
    },
    {
     "data": {
      "image/png": "[encoded data removed]",
      "text/plain": [
       "<Figure size 432x288 with 1 Axes>"
      ]
     },
     "metadata": {
      "needs_background": "light"
     },
     "output_type": "display_data"
    }
   ],
   "source": [
    "vehicle_age = np.random.uniform(0,10,1000)\n",
    "vehicle_price = 70000 - (vehicle_age + np.random.normal(0, 1, 1000)) * 3000\n",
    "\n",
    "vehicle_age = vehicle_age.reshape(-1, 1)\n",
    "vehicle_price = vehicle_price.reshape(-1, 1)\n",
    "\n",
    "plt.scatter(vehicle_age, vehicle_price)"
   ]
  },
  {
   "cell_type": "code",
   "execution_count": 9,
   "metadata": {},
   "outputs": [
    {
     "name": "stdout",
     "output_type": "stream",
     "text": [
      "(800, 1)\n",
      "(200, 1)\n",
      "(800, 1)\n",
      "(200, 1)\n"
     ]
    }
   ],
   "source": [
    "#DIVIDE TRAIN AND TEST SETS\n",
    "X_train, X_test, Y_train, Y_test = train_test_split(vehicle_age,vehicle_price, test_size=0.2, random_state=1)\n",
    "print(X_train.shape)\n",
    "print(X_test.shape)\n",
    "print(Y_train.shape)\n",
    "print(Y_test.shape)"
   ]
  },
  {
   "cell_type": "code",
   "execution_count": 10,
   "metadata": {},
   "outputs": [
    {
     "data": {
      "text/plain": [
       "LinearRegression()"
      ]
     },
     "execution_count": 10,
     "metadata": {},
     "output_type": "execute_result"
    }
   ],
   "source": [
    "#CREATE THE LINEAR REGGRESION MODEL\n",
    "model = LinearRegression()\n",
    "model"
   ]
  },
  {
   "cell_type": "code",
   "execution_count": 11,
   "metadata": {},
   "outputs": [
    {
     "data": {
      "text/plain": [
       "LinearRegression()"
      ]
     },
     "execution_count": 11,
     "metadata": {},
     "output_type": "execute_result"
    }
   ],
   "source": [
    "#TRAIN MODEL\n",
    "model.fit(X_train,Y_train)"
   ]
  },
  {
   "cell_type": "code",
   "execution_count": 12,
   "metadata": {},
   "outputs": [
    {
     "data": {
      "text/plain": [
       "array([[45880.45994613],\n",
       "       [41537.17516713],\n",
       "       [46023.85582078],\n",
       "       [51039.27284828],\n",
       "       [61524.31076295],\n",
       "       [44039.46796183],\n",
       "       [68427.60878444],\n",
       "       [53470.75235864],\n",
       "       [55477.80225058],\n",
       "       [47575.2426776 ],\n",
       "       [64545.84814438],\n",
       "       [49997.879311  ],\n",
       "       [58996.23976407],\n",
       "       [57146.54833144],\n",
       "       [56117.43949787],\n",
       "       [55641.90183745],\n",
       "       [43359.61429565],\n",
       "       [62052.01871955],\n",
       "       [51858.41705354],\n",
       "       [40745.02448478],\n",
       "       [63765.02092979],\n",
       "       [52331.92305007],\n",
       "       [40517.73929453],\n",
       "       [68473.65074976],\n",
       "       [49217.08238104],\n",
       "       [60321.65035907],\n",
       "       [49657.46746296],\n",
       "       [52593.25071562],\n",
       "       [57359.20122757],\n",
       "       [44810.37634451],\n",
       "       [43263.00795842],\n",
       "       [44632.28556769],\n",
       "       [64317.22232551],\n",
       "       [61846.96332262],\n",
       "       [61958.99624032],\n",
       "       [43638.5215604 ],\n",
       "       [66635.86267146],\n",
       "       [61561.66364341],\n",
       "       [65277.55524115],\n",
       "       [61045.14577138],\n",
       "       [66619.40476177],\n",
       "       [55485.42626919],\n",
       "       [41523.20085266],\n",
       "       [60911.57396702],\n",
       "       [53992.33704066],\n",
       "       [66016.81989143],\n",
       "       [69052.98951424],\n",
       "       [42081.32815451],\n",
       "       [55300.75591542],\n",
       "       [69659.09243093],\n",
       "       [52314.83698329],\n",
       "       [52320.4033892 ],\n",
       "       [53664.14679823],\n",
       "       [61445.38676272],\n",
       "       [69243.48110965],\n",
       "       [61511.72377651],\n",
       "       [43472.14937645],\n",
       "       [48503.34399278],\n",
       "       [52415.82370922],\n",
       "       [45560.44375125],\n",
       "       [46962.91654125],\n",
       "       [48131.70744305],\n",
       "       [49236.25187534],\n",
       "       [56493.66005749],\n",
       "       [50468.79113137],\n",
       "       [52367.25300105],\n",
       "       [64524.26361586],\n",
       "       [42113.64315965],\n",
       "       [68788.2340664 ],\n",
       "       [57342.96638318],\n",
       "       [63380.60492029],\n",
       "       [62140.89946355],\n",
       "       [68672.54284983],\n",
       "       [68997.50074643],\n",
       "       [69197.15585351],\n",
       "       [56701.25343751],\n",
       "       [60806.59101897],\n",
       "       [60951.2977138 ],\n",
       "       [56692.26665395],\n",
       "       [41928.31101212],\n",
       "       [42746.47854414],\n",
       "       [50436.0720023 ],\n",
       "       [46801.3288463 ],\n",
       "       [65539.69585647],\n",
       "       [63315.39603086],\n",
       "       [58065.09498543],\n",
       "       [67031.65394829],\n",
       "       [64219.85592168],\n",
       "       [52546.60594981],\n",
       "       [51478.86978913],\n",
       "       [48277.9459219 ],\n",
       "       [64374.82345447],\n",
       "       [56481.19698481],\n",
       "       [54610.68727511],\n",
       "       [69924.76120914],\n",
       "       [62902.37070024],\n",
       "       [41992.89436919],\n",
       "       [41473.06504842],\n",
       "       [63255.49149728],\n",
       "       [53709.21529263],\n",
       "       [51503.9569957 ],\n",
       "       [68494.24275948],\n",
       "       [60655.64032604],\n",
       "       [44100.4635099 ],\n",
       "       [49528.89405698],\n",
       "       [41571.32996191],\n",
       "       [57064.86086238],\n",
       "       [46276.13178336],\n",
       "       [55547.43669659],\n",
       "       [64397.33308941],\n",
       "       [63151.49919975],\n",
       "       [61732.56929291],\n",
       "       [66726.84984333],\n",
       "       [69427.63807453],\n",
       "       [64432.17712837],\n",
       "       [49703.10748171],\n",
       "       [43153.6583861 ],\n",
       "       [58951.70130335],\n",
       "       [68550.10141759],\n",
       "       [51677.38565287],\n",
       "       [51666.97038421],\n",
       "       [68589.9813409 ],\n",
       "       [55636.91040797],\n",
       "       [44670.73473463],\n",
       "       [55793.04608456],\n",
       "       [57065.69920323],\n",
       "       [47578.70891133],\n",
       "       [42152.90955682],\n",
       "       [50861.96055459],\n",
       "       [59538.33201778],\n",
       "       [46091.70882444],\n",
       "       [42509.59985435],\n",
       "       [48513.49362779],\n",
       "       [66679.50333957],\n",
       "       [44980.13312644],\n",
       "       [64515.08296846],\n",
       "       [53097.05716244],\n",
       "       [50442.77634166],\n",
       "       [47738.98097785],\n",
       "       [57961.37522991],\n",
       "       [51341.30761972],\n",
       "       [59487.30696291],\n",
       "       [46874.39549994],\n",
       "       [55450.19468391],\n",
       "       [60241.85808413],\n",
       "       [44883.53101642],\n",
       "       [46449.66504364],\n",
       "       [48024.49138252],\n",
       "       [48498.7808206 ],\n",
       "       [52039.67229952],\n",
       "       [42480.90341575],\n",
       "       [51851.70828876],\n",
       "       [65558.26991061],\n",
       "       [55035.40565414],\n",
       "       [44481.8519748 ],\n",
       "       [60820.36050608],\n",
       "       [65089.62926773],\n",
       "       [51421.89622351],\n",
       "       [58661.53922358],\n",
       "       [64687.83830864],\n",
       "       [55207.30942709],\n",
       "       [50786.2156245 ],\n",
       "       [63507.02308223],\n",
       "       [60215.13620573],\n",
       "       [43721.93305166],\n",
       "       [40126.47938132],\n",
       "       [53947.67517189],\n",
       "       [69936.49392724],\n",
       "       [53559.8390835 ],\n",
       "       [52754.1388927 ],\n",
       "       [67266.44336619],\n",
       "       [65429.10598013],\n",
       "       [66296.65363587],\n",
       "       [45364.68031716],\n",
       "       [64352.37615431],\n",
       "       [55592.02499097],\n",
       "       [68454.26615279],\n",
       "       [64304.25002009],\n",
       "       [52715.51985429],\n",
       "       [64165.44580722],\n",
       "       [62125.48202927],\n",
       "       [68987.22602303],\n",
       "       [49109.60425259],\n",
       "       [45440.56621294],\n",
       "       [58809.17987916],\n",
       "       [68681.49963162],\n",
       "       [67340.51653244],\n",
       "       [44210.11466891],\n",
       "       [41388.17822026],\n",
       "       [59373.04948406],\n",
       "       [53271.19936045],\n",
       "       [53523.16552528],\n",
       "       [51169.44346728],\n",
       "       [42651.48921863],\n",
       "       [57481.66359642],\n",
       "       [53564.79823217],\n",
       "       [44286.18272501],\n",
       "       [55827.79595716],\n",
       "       [65810.19832248],\n",
       "       [68800.48054039]])"
      ]
     },
     "execution_count": 12,
     "metadata": {},
     "output_type": "execute_result"
    }
   ],
   "source": [
    "#APPLY THE MODEL\n",
    "yfit = model.predict(X_test)\n",
    "yfit"
   ]
  },
  {
   "cell_type": "code",
   "execution_count": 14,
   "metadata": {},
   "outputs": [
    {
     "name": "stdout",
     "output_type": "stream",
     "text": [
      "r2 socre:  0.885949430586124\n"
     ]
    }
   ],
   "source": [
    "#CHECK MODEL´S ACCURACY\n",
    "score=r2_score(Y_test,yfit)\n",
    "print('r2 socre: ',score)"
   ]
  },
  {
   "cell_type": "markdown",
   "metadata": {},
   "source": [
    "### We´ll do the same for np.random.normal to 1, 5 and 10"
   ]
  },
  {
   "cell_type": "code",
   "execution_count": 15,
   "metadata": {},
   "outputs": [
    {
     "data": {
      "text/plain": [
       "<matplotlib.collections.PathCollection at 0xbb722305b0>"
      ]
     },
     "execution_count": 15,
     "metadata": {},
     "output_type": "execute_result"
    },
    {
     "data": {
      "image/png": "[encoded data removed]",
      "text/plain": [
       "<Figure size 432x288 with 1 Axes>"
      ]
     },
     "metadata": {
      "needs_background": "light"
     },
     "output_type": "display_data"
    }
   ],
   "source": [
    "vehicle_age = np.random.uniform(1,5,10)\n",
    "vehicle_price = 70000 - (vehicle_age + np.random.normal(1, 5, 10)) * 3000\n",
    "\n",
    "vehicle_age = vehicle_age.reshape(-1, 1)\n",
    "vehicle_price = vehicle_price.reshape(-1, 1)\n",
    "\n",
    "plt.scatter(vehicle_age, vehicle_price)"
   ]
  },
  {
   "cell_type": "code",
   "execution_count": 16,
   "metadata": {},
   "outputs": [
    {
     "name": "stdout",
     "output_type": "stream",
     "text": [
      "(8, 1)\n",
      "(2, 1)\n",
      "(8, 1)\n",
      "(2, 1)\n"
     ]
    }
   ],
   "source": [
    "#DIVIDE TRAIN AND TEST SETS\n",
    "X_train, X_test, Y_train, Y_test = train_test_split(vehicle_age,vehicle_price, test_size=0.2, random_state=1)\n",
    "print(X_train.shape)\n",
    "print(X_test.shape)\n",
    "print(Y_train.shape)\n",
    "print(Y_test.shape)"
   ]
  },
  {
   "cell_type": "code",
   "execution_count": 17,
   "metadata": {},
   "outputs": [
    {
     "data": {
      "text/plain": [
       "LinearRegression()"
      ]
     },
     "execution_count": 17,
     "metadata": {},
     "output_type": "execute_result"
    }
   ],
   "source": [
    "#CREATE THE LINEAR REGGRESION MODEL\n",
    "model = LinearRegression()\n",
    "model"
   ]
  },
  {
   "cell_type": "code",
   "execution_count": 18,
   "metadata": {},
   "outputs": [
    {
     "data": {
      "text/plain": [
       "LinearRegression()"
      ]
     },
     "execution_count": 18,
     "metadata": {},
     "output_type": "execute_result"
    }
   ],
   "source": [
    "#TRAIN MODEL\n",
    "model.fit(X_train,Y_train)"
   ]
  },
  {
   "cell_type": "code",
   "execution_count": 19,
   "metadata": {},
   "outputs": [
    {
     "data": {
      "text/plain": [
       "array([[54560.47287439],\n",
       "       [63289.14829406]])"
      ]
     },
     "execution_count": 19,
     "metadata": {},
     "output_type": "execute_result"
    }
   ],
   "source": [
    "#APPLY THE MODEL\n",
    "yfit = model.predict(X_test)\n",
    "yfit"
   ]
  },
  {
   "cell_type": "code",
   "execution_count": 20,
   "metadata": {},
   "outputs": [
    {
     "name": "stdout",
     "output_type": "stream",
     "text": [
      "r2 socre:  0.2585659700022127\n"
     ]
    }
   ],
   "source": [
    "#CHECK MODEL´S ACCURACY\n",
    "score=r2_score(Y_test,yfit)\n",
    "print('r2 socre: ',score)"
   ]
  },
  {
   "cell_type": "markdown",
   "metadata": {},
   "source": [
    "# ANSWER: "
   ]
  },
  {
   "cell_type": "markdown",
   "metadata": {},
   "source": [
    "### Based on the tests, the R-squared value decreases as there is less data from the model to work with them. So in conclusion, for a model to work properly and performs the better, we need to have a considerable ammount of data, otherwise, the accuracy can decrease, or it can  overfit as well"
   ]
  },
  {
   "cell_type": "code",
   "execution_count": null,
   "metadata": {},
   "outputs": [],
   "source": []
  }
 ],
 "metadata": {
  "kernelspec": {
   "display_name": "Python 3",
   "language": "python",
   "name": "python3"
  },
  "language_info": {
   "codemirror_mode": {
    "name": "ipython",
    "version": 3
   },
   "file_extension": ".py",
   "mimetype": "text/x-python",
   "name": "python",
   "nbconvert_exporter": "python",
   "pygments_lexer": "ipython3",
   "version": "3.8.8"
  }
 },
 "nbformat": 4,
 "nbformat_minor": 1
}
