{
 "cells": [
  {
   "cell_type": "markdown",
   "source": [
    "<p style=\"font-family: Arial; font-size:3em;color:black;\"> Lab2, W1 </p>"
   ],
   "metadata": {}
  },
  {
   "cell_type": "markdown",
   "source": [
    "Students name in this Group:\n",
    "\n",
    "Javier Jiménez Cañizares 101371877\n",
    "\n",
    "Luis Alberto Sosa Quintero 101369283\n",
    "\n",
    "Ting Fu Kevin Tsai 101031370\n",
    "\n",
    "Olanrewaju Yusuf 101364202"
   ],
   "metadata": {}
  },
  {
   "cell_type": "code",
   "execution_count": 28,
   "source": [
    "%matplotlib inline \n",
    "# sets the backend of matplotlib to the 'inline' backend: it will make your plot outputs appear and be stored within the notebook.\n",
    "import numpy as np\n",
    "import matplotlib.pyplot as plt\n",
    "\n",
    "# # of hours a AI student spends on their courses in a month\n",
    "np.random.seed(10)\n",
    "no_hours = np.random.normal(40.0, 10.0, 10000)\n",
    "\n",
    "plt.hist(no_hours, 50)\n",
    "plt.show()"
   ],
   "outputs": [
    {
     "output_type": "display_data",
     "data": {
      "image/png": "[encoded data removed]",
      "text/plain": [
       "<Figure size 432x288 with 1 Axes>"
      ]
     },
     "metadata": {
      "needs_background": "light"
     }
    }
   ],
   "metadata": {}
  },
  {
   "cell_type": "code",
   "execution_count": 12,
   "source": [
    "# Calculate and report the mean, std, and var of the data shown above.\n",
    "# What is the theoretical relationship between std and var? Do the numbers reperted in the previous step agree with your expectation?\n",
    "# Begin changing the different parameters on the normal function, discuss your observations as you change each input parameter."
   ],
   "outputs": [],
   "metadata": {}
  },
  {
   "cell_type": "code",
   "execution_count": 29,
   "source": [
    "# Calculate and report the mean, std, and var of the data shown above.\n",
    "print(\"the mean is:\", np.round(np.mean(no_hours), 4))\n",
    "# std\n",
    "print(\"the standard deviation is:\", np.round(np.std(no_hours), 4))\n",
    "# var\n",
    "print(\"the variance is:\", np.round(np.var(no_hours) ,4))\n",
    " "
   ],
   "outputs": [
    {
     "output_type": "stream",
     "name": "stdout",
     "text": [
      "the mean is: 40.051\n",
      "the standard deviation is: 9.8966\n",
      "the variance is: 97.9435\n"
     ]
    }
   ],
   "metadata": {}
  },
  {
   "cell_type": "markdown",
   "source": [
    "*What is the theoretical relationship between std and var?*\n",
    "\n",
    "The math formula for the standard deviation is: \n",
    "\n",
    "$\\sigma = \\sqrt{\\frac{\\sum(x_i-\\mu)^2}{N}}$, where: \n",
    "\n",
    "* $\\sigma$: population standard deviation, \n",
    "* N: the size of the population, \n",
    "* $x_i$: each value from the population \n",
    "* $\\mu$: the population mean \n",
    "\n",
    "And the variance is:\n",
    "\n",
    "$\\sigma^2 = \\frac{\\sum(x_i-\\mu)^2}{N}$, where: \n",
    "\n",
    "* $\\sigma^2$: population variance, \n",
    "* N: the size of the population, \n",
    "* $x_i$: each value from the population \n",
    "* $\\mu$: the population mean \n",
    "\n",
    "Then mathematically the variance is the square of the standard deviation and both measure the dispersion of the data with respect to the mean\n",
    "\n",
    "*Do the numbers reperted in the previous step agree with your expectation?*\n",
    "\n",
    "Yes, the data sample was taken from a normal distribution of mean 40 and standard deviation 10, so when calculating its mean and standard deviation using the numpy functions, its values are close to these."
   ],
   "metadata": {}
  },
  {
   "cell_type": "code",
   "execution_count": 53,
   "source": [
    "# Begin changing the different parameters on the normal function, discuss your observations as you change each input parameter.\n",
    "%matplotlib inline\n",
    "# # of hours a AI student spends on their courses in a month\n",
    "np.random.seed(10)\n",
    "no_hours_1 = np.random.normal(10.0, 2.0, 10000)\n",
    "no_hours_2 = np.random.normal(60.0, 12.0, 10000)\n",
    "no_hours_3 = np.random.normal(60.0, 4.0, 10000)\n",
    "no_hours_4 = np.random.normal(40.0, 8.0, 10000)\n",
    "\n",
    "fig, ((ax1, ax2), (ax3, ax4)) = plt.subplots(2, 2, sharex = True)\n",
    "fig.suptitle('Normal distribution')\n",
    "ax1.hist(no_hours_1, 50)\n",
    "ax1.set_title('mean=10, st=2')\n",
    "ax2.hist(no_hours_2, 50)\n",
    "ax2.set_title('mean=60, st=12')\n",
    "ax3.hist(no_hours_3, 50)\n",
    "ax3.set_title('mean=60, st=4')\n",
    "ax4.hist(no_hours_4, 50)\n",
    "ax4.set_title('mean=40, st=8')\n",
    "plt.xlim(0, 100)\n",
    "plt.show()"
   ],
   "outputs": [
    {
     "output_type": "display_data",
     "data": {
      "image/png": "[encoded data removed]",
      "text/plain": [
       "<Figure size 432x288 with 4 Axes>"
      ]
     },
     "metadata": {
      "needs_background": "light"
     }
    }
   ],
   "metadata": {}
  },
  {
   "cell_type": "markdown",
   "source": [
    "We can see that the graph has two main types of changes, translation and dispersion.\n",
    "\n",
    "When you change the mean value, the distribution shifts, now focusing on the mean value that has been defined. When the standard deviation is changed what changes is the thickness of the graph, when this number is greater the graph looks wider, which means that it is more dispersed."
   ],
   "metadata": {}
  }
 ],
 "metadata": {
  "kernelspec": {
   "name": "python3",
   "display_name": "Python 3.7.3 64-bit ('base': conda)"
  },
  "language_info": {
   "codemirror_mode": {
    "name": "ipython",
    "version": 3
   },
   "file_extension": ".py",
   "mimetype": "text/x-python",
   "name": "python",
   "nbconvert_exporter": "python",
   "pygments_lexer": "ipython3",
   "version": "3.7.3"
  },
  "interpreter": {
   "hash": "398dc28c06ad810e77de546bbdfa897a6ee0b83e59a5207339dda01a7843e01d"
  }
 },
 "nbformat": 4,
 "nbformat_minor": 1
}