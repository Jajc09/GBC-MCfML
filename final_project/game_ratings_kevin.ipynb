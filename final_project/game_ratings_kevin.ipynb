{
 "cells": [
  {
   "cell_type": "markdown",
   "id": "9954a04e",
   "metadata": {},
   "source": [
    "<h3>Import Dataset</h3>"
   ]
  },
  {
   "cell_type": "code",
   "execution_count": 1,
   "id": "81727183",
   "metadata": {},
   "outputs": [],
   "source": [
    "import numpy as np\n",
    "import pandas as pd"
   ]
  },
  {
   "cell_type": "code",
   "execution_count": 2,
   "id": "d9dcedce",
   "metadata": {},
   "outputs": [],
   "source": [
    "df_train = pd.read_csv(\"data/Video_games_esrb_rating.csv\")\n",
    "df_test = pd.read_csv(\"data/test_esrb.csv\")"
   ]
  },
  {
   "cell_type": "code",
   "execution_count": 3,
   "id": "10bae720",
   "metadata": {},
   "outputs": [
    {
     "name": "stdout",
     "output_type": "stream",
     "text": [
      "<class 'pandas.core.frame.DataFrame'>\n",
      "RangeIndex: 1895 entries, 0 to 1894\n",
      "Data columns (total 34 columns):\n",
      " #   Column                    Non-Null Count  Dtype \n",
      "---  ------                    --------------  ----- \n",
      " 0   title                     1895 non-null   object\n",
      " 1   console                   1895 non-null   int64 \n",
      " 2   alcohol_reference         1895 non-null   int64 \n",
      " 3   animated_blood            1895 non-null   int64 \n",
      " 4   blood                     1895 non-null   int64 \n",
      " 5   blood_and_gore            1895 non-null   int64 \n",
      " 6   cartoon_violence          1895 non-null   int64 \n",
      " 7   crude_humor               1895 non-null   int64 \n",
      " 8   drug_reference            1895 non-null   int64 \n",
      " 9   fantasy_violence          1895 non-null   int64 \n",
      " 10  intense_violence          1895 non-null   int64 \n",
      " 11  language                  1895 non-null   int64 \n",
      " 12  lyrics                    1895 non-null   int64 \n",
      " 13  mature_humor              1895 non-null   int64 \n",
      " 14  mild_blood                1895 non-null   int64 \n",
      " 15  mild_cartoon_violence     1895 non-null   int64 \n",
      " 16  mild_fantasy_violence     1895 non-null   int64 \n",
      " 17  mild_language             1895 non-null   int64 \n",
      " 18  mild_lyrics               1895 non-null   int64 \n",
      " 19  mild_suggestive_themes    1895 non-null   int64 \n",
      " 20  mild_violence             1895 non-null   int64 \n",
      " 21  no_descriptors            1895 non-null   int64 \n",
      " 22  nudity                    1895 non-null   int64 \n",
      " 23  partial_nudity            1895 non-null   int64 \n",
      " 24  sexual_content            1895 non-null   int64 \n",
      " 25  sexual_themes             1895 non-null   int64 \n",
      " 26  simulated_gambling        1895 non-null   int64 \n",
      " 27  strong_janguage           1895 non-null   int64 \n",
      " 28  strong_sexual_content     1895 non-null   int64 \n",
      " 29  suggestive_themes         1895 non-null   int64 \n",
      " 30  use_of_alcohol            1895 non-null   int64 \n",
      " 31  use_of_drugs_and_alcohol  1895 non-null   int64 \n",
      " 32  violence                  1895 non-null   int64 \n",
      " 33  esrb_rating               1895 non-null   object\n",
      "dtypes: int64(32), object(2)\n",
      "memory usage: 503.5+ KB\n"
     ]
    }
   ],
   "source": [
    "df_train.info()"
   ]
  },
  {
   "cell_type": "code",
   "execution_count": 4,
   "id": "b6ae3e21",
   "metadata": {},
   "outputs": [
    {
     "name": "stdout",
     "output_type": "stream",
     "text": [
      "<class 'pandas.core.frame.DataFrame'>\n",
      "RangeIndex: 500 entries, 0 to 499\n",
      "Data columns (total 34 columns):\n",
      " #   Column                    Non-Null Count  Dtype \n",
      "---  ------                    --------------  ----- \n",
      " 0   title                     500 non-null    object\n",
      " 1   console                   500 non-null    int64 \n",
      " 2   alcohol_reference         500 non-null    int64 \n",
      " 3   animated_blood            500 non-null    int64 \n",
      " 4   blood                     500 non-null    int64 \n",
      " 5   blood_and_gore            500 non-null    int64 \n",
      " 6   cartoon_violence          500 non-null    int64 \n",
      " 7   crude_humor               500 non-null    int64 \n",
      " 8   drug_reference            500 non-null    int64 \n",
      " 9   fantasy_violence          500 non-null    int64 \n",
      " 10  intense_violence          500 non-null    int64 \n",
      " 11  language                  500 non-null    int64 \n",
      " 12  lyrics                    500 non-null    int64 \n",
      " 13  mature_humor              500 non-null    int64 \n",
      " 14  mild_blood                500 non-null    int64 \n",
      " 15  mild_cartoon_violence     500 non-null    int64 \n",
      " 16  mild_fantasy_violence     500 non-null    int64 \n",
      " 17  mild_language             500 non-null    int64 \n",
      " 18  mild_lyrics               500 non-null    int64 \n",
      " 19  mild_suggestive_themes    500 non-null    int64 \n",
      " 20  mild_violence             500 non-null    int64 \n",
      " 21  no_descriptors            500 non-null    int64 \n",
      " 22  nudity                    500 non-null    int64 \n",
      " 23  partial_nudity            500 non-null    int64 \n",
      " 24  sexual_content            500 non-null    int64 \n",
      " 25  sexual_themes             500 non-null    int64 \n",
      " 26  simulated_gambling        500 non-null    int64 \n",
      " 27  strong_janguage           500 non-null    int64 \n",
      " 28  strong_sexual_content     500 non-null    int64 \n",
      " 29  suggestive_themes         500 non-null    int64 \n",
      " 30  use_of_alcohol            500 non-null    int64 \n",
      " 31  use_of_drugs_and_alcohol  500 non-null    int64 \n",
      " 32  violence                  500 non-null    int64 \n",
      " 33  esrb_rating               500 non-null    object\n",
      "dtypes: int64(32), object(2)\n",
      "memory usage: 132.9+ KB\n"
     ]
    }
   ],
   "source": [
    "df_test.info()"
   ]
  },
  {
   "cell_type": "code",
   "execution_count": 5,
   "id": "1ade2e31",
   "metadata": {},
   "outputs": [
    {
     "data": {
      "text/html": [
       "<div>\n",
       "<style scoped>\n",
       "    .dataframe tbody tr th:only-of-type {\n",
       "        vertical-align: middle;\n",
       "    }\n",
       "\n",
       "    .dataframe tbody tr th {\n",
       "        vertical-align: top;\n",
       "    }\n",
       "\n",
       "    .dataframe thead th {\n",
       "        text-align: right;\n",
       "    }\n",
       "</style>\n",
       "<table border=\"1\" class=\"dataframe\">\n",
       "  <thead>\n",
       "    <tr style=\"text-align: right;\">\n",
       "      <th></th>\n",
       "      <th>title</th>\n",
       "      <th>console</th>\n",
       "      <th>alcohol_reference</th>\n",
       "      <th>animated_blood</th>\n",
       "      <th>blood</th>\n",
       "      <th>blood_and_gore</th>\n",
       "      <th>cartoon_violence</th>\n",
       "      <th>crude_humor</th>\n",
       "      <th>drug_reference</th>\n",
       "      <th>fantasy_violence</th>\n",
       "      <th>...</th>\n",
       "      <th>sexual_content</th>\n",
       "      <th>sexual_themes</th>\n",
       "      <th>simulated_gambling</th>\n",
       "      <th>strong_janguage</th>\n",
       "      <th>strong_sexual_content</th>\n",
       "      <th>suggestive_themes</th>\n",
       "      <th>use_of_alcohol</th>\n",
       "      <th>use_of_drugs_and_alcohol</th>\n",
       "      <th>violence</th>\n",
       "      <th>esrb_rating</th>\n",
       "    </tr>\n",
       "  </thead>\n",
       "  <tbody>\n",
       "    <tr>\n",
       "      <th>0</th>\n",
       "      <td>Monster Jam Steel Titans 2</td>\n",
       "      <td>1</td>\n",
       "      <td>0</td>\n",
       "      <td>0</td>\n",
       "      <td>0</td>\n",
       "      <td>0</td>\n",
       "      <td>0</td>\n",
       "      <td>0</td>\n",
       "      <td>0</td>\n",
       "      <td>0</td>\n",
       "      <td>...</td>\n",
       "      <td>0</td>\n",
       "      <td>0</td>\n",
       "      <td>0</td>\n",
       "      <td>0</td>\n",
       "      <td>0</td>\n",
       "      <td>0</td>\n",
       "      <td>0</td>\n",
       "      <td>0</td>\n",
       "      <td>0</td>\n",
       "      <td>E</td>\n",
       "    </tr>\n",
       "    <tr>\n",
       "      <th>1</th>\n",
       "      <td>Subnautica: Below Zero</td>\n",
       "      <td>1</td>\n",
       "      <td>0</td>\n",
       "      <td>1</td>\n",
       "      <td>0</td>\n",
       "      <td>0</td>\n",
       "      <td>0</td>\n",
       "      <td>0</td>\n",
       "      <td>0</td>\n",
       "      <td>0</td>\n",
       "      <td>...</td>\n",
       "      <td>0</td>\n",
       "      <td>0</td>\n",
       "      <td>0</td>\n",
       "      <td>0</td>\n",
       "      <td>0</td>\n",
       "      <td>0</td>\n",
       "      <td>0</td>\n",
       "      <td>0</td>\n",
       "      <td>0</td>\n",
       "      <td>ET</td>\n",
       "    </tr>\n",
       "    <tr>\n",
       "      <th>2</th>\n",
       "      <td>NIER REPLICANT VER.1.22474487139…</td>\n",
       "      <td>1</td>\n",
       "      <td>0</td>\n",
       "      <td>0</td>\n",
       "      <td>1</td>\n",
       "      <td>0</td>\n",
       "      <td>0</td>\n",
       "      <td>0</td>\n",
       "      <td>0</td>\n",
       "      <td>0</td>\n",
       "      <td>...</td>\n",
       "      <td>0</td>\n",
       "      <td>0</td>\n",
       "      <td>0</td>\n",
       "      <td>1</td>\n",
       "      <td>0</td>\n",
       "      <td>1</td>\n",
       "      <td>0</td>\n",
       "      <td>0</td>\n",
       "      <td>0</td>\n",
       "      <td>M</td>\n",
       "    </tr>\n",
       "    <tr>\n",
       "      <th>3</th>\n",
       "      <td>Jamestown+</td>\n",
       "      <td>0</td>\n",
       "      <td>0</td>\n",
       "      <td>0</td>\n",
       "      <td>0</td>\n",
       "      <td>0</td>\n",
       "      <td>0</td>\n",
       "      <td>0</td>\n",
       "      <td>0</td>\n",
       "      <td>1</td>\n",
       "      <td>...</td>\n",
       "      <td>0</td>\n",
       "      <td>0</td>\n",
       "      <td>0</td>\n",
       "      <td>0</td>\n",
       "      <td>0</td>\n",
       "      <td>0</td>\n",
       "      <td>0</td>\n",
       "      <td>0</td>\n",
       "      <td>0</td>\n",
       "      <td>ET</td>\n",
       "    </tr>\n",
       "    <tr>\n",
       "      <th>4</th>\n",
       "      <td>Neptunia Virtual Stars</td>\n",
       "      <td>0</td>\n",
       "      <td>0</td>\n",
       "      <td>0</td>\n",
       "      <td>0</td>\n",
       "      <td>0</td>\n",
       "      <td>0</td>\n",
       "      <td>0</td>\n",
       "      <td>0</td>\n",
       "      <td>1</td>\n",
       "      <td>...</td>\n",
       "      <td>0</td>\n",
       "      <td>0</td>\n",
       "      <td>0</td>\n",
       "      <td>0</td>\n",
       "      <td>0</td>\n",
       "      <td>1</td>\n",
       "      <td>0</td>\n",
       "      <td>0</td>\n",
       "      <td>0</td>\n",
       "      <td>T</td>\n",
       "    </tr>\n",
       "    <tr>\n",
       "      <th>5</th>\n",
       "      <td>Monster Energy Supercross - The Official Video...</td>\n",
       "      <td>1</td>\n",
       "      <td>0</td>\n",
       "      <td>0</td>\n",
       "      <td>0</td>\n",
       "      <td>0</td>\n",
       "      <td>0</td>\n",
       "      <td>0</td>\n",
       "      <td>0</td>\n",
       "      <td>0</td>\n",
       "      <td>...</td>\n",
       "      <td>0</td>\n",
       "      <td>0</td>\n",
       "      <td>0</td>\n",
       "      <td>0</td>\n",
       "      <td>0</td>\n",
       "      <td>0</td>\n",
       "      <td>0</td>\n",
       "      <td>0</td>\n",
       "      <td>0</td>\n",
       "      <td>E</td>\n",
       "    </tr>\n",
       "    <tr>\n",
       "      <th>6</th>\n",
       "      <td>Monochrome Order</td>\n",
       "      <td>0</td>\n",
       "      <td>0</td>\n",
       "      <td>0</td>\n",
       "      <td>1</td>\n",
       "      <td>0</td>\n",
       "      <td>0</td>\n",
       "      <td>0</td>\n",
       "      <td>0</td>\n",
       "      <td>0</td>\n",
       "      <td>...</td>\n",
       "      <td>0</td>\n",
       "      <td>0</td>\n",
       "      <td>0</td>\n",
       "      <td>0</td>\n",
       "      <td>0</td>\n",
       "      <td>0</td>\n",
       "      <td>0</td>\n",
       "      <td>0</td>\n",
       "      <td>1</td>\n",
       "      <td>T</td>\n",
       "    </tr>\n",
       "    <tr>\n",
       "      <th>7</th>\n",
       "      <td>Blightbound</td>\n",
       "      <td>1</td>\n",
       "      <td>0</td>\n",
       "      <td>0</td>\n",
       "      <td>0</td>\n",
       "      <td>1</td>\n",
       "      <td>0</td>\n",
       "      <td>0</td>\n",
       "      <td>0</td>\n",
       "      <td>0</td>\n",
       "      <td>...</td>\n",
       "      <td>1</td>\n",
       "      <td>0</td>\n",
       "      <td>0</td>\n",
       "      <td>0</td>\n",
       "      <td>0</td>\n",
       "      <td>0</td>\n",
       "      <td>0</td>\n",
       "      <td>0</td>\n",
       "      <td>0</td>\n",
       "      <td>T</td>\n",
       "    </tr>\n",
       "    <tr>\n",
       "      <th>8</th>\n",
       "      <td>Maquette</td>\n",
       "      <td>0</td>\n",
       "      <td>1</td>\n",
       "      <td>0</td>\n",
       "      <td>0</td>\n",
       "      <td>0</td>\n",
       "      <td>0</td>\n",
       "      <td>0</td>\n",
       "      <td>0</td>\n",
       "      <td>0</td>\n",
       "      <td>...</td>\n",
       "      <td>0</td>\n",
       "      <td>0</td>\n",
       "      <td>0</td>\n",
       "      <td>0</td>\n",
       "      <td>0</td>\n",
       "      <td>0</td>\n",
       "      <td>0</td>\n",
       "      <td>0</td>\n",
       "      <td>0</td>\n",
       "      <td>ET</td>\n",
       "    </tr>\n",
       "    <tr>\n",
       "      <th>9</th>\n",
       "      <td>FATAL FURY™ BATTLE ARCHIVES VOL.2</td>\n",
       "      <td>0</td>\n",
       "      <td>0</td>\n",
       "      <td>0</td>\n",
       "      <td>0</td>\n",
       "      <td>0</td>\n",
       "      <td>0</td>\n",
       "      <td>0</td>\n",
       "      <td>0</td>\n",
       "      <td>0</td>\n",
       "      <td>...</td>\n",
       "      <td>0</td>\n",
       "      <td>0</td>\n",
       "      <td>0</td>\n",
       "      <td>0</td>\n",
       "      <td>0</td>\n",
       "      <td>1</td>\n",
       "      <td>0</td>\n",
       "      <td>0</td>\n",
       "      <td>0</td>\n",
       "      <td>T</td>\n",
       "    </tr>\n",
       "  </tbody>\n",
       "</table>\n",
       "<p>10 rows × 34 columns</p>\n",
       "</div>"
      ],
      "text/plain": [
       "                                               title  console  \\\n",
       "0                         Monster Jam Steel Titans 2        1   \n",
       "1                             Subnautica: Below Zero        1   \n",
       "2                  NIER REPLICANT VER.1.22474487139…        1   \n",
       "3                                         Jamestown+        0   \n",
       "4                             Neptunia Virtual Stars        0   \n",
       "5  Monster Energy Supercross - The Official Video...        1   \n",
       "6                                   Monochrome Order        0   \n",
       "7                                        Blightbound        1   \n",
       "8                                           Maquette        0   \n",
       "9                  FATAL FURY™ BATTLE ARCHIVES VOL.2        0   \n",
       "\n",
       "   alcohol_reference  animated_blood  blood  blood_and_gore  cartoon_violence  \\\n",
       "0                  0               0      0               0                 0   \n",
       "1                  0               1      0               0                 0   \n",
       "2                  0               0      1               0                 0   \n",
       "3                  0               0      0               0                 0   \n",
       "4                  0               0      0               0                 0   \n",
       "5                  0               0      0               0                 0   \n",
       "6                  0               0      1               0                 0   \n",
       "7                  0               0      0               1                 0   \n",
       "8                  1               0      0               0                 0   \n",
       "9                  0               0      0               0                 0   \n",
       "\n",
       "   crude_humor  drug_reference  fantasy_violence  ...  sexual_content  \\\n",
       "0            0               0                 0  ...               0   \n",
       "1            0               0                 0  ...               0   \n",
       "2            0               0                 0  ...               0   \n",
       "3            0               0                 1  ...               0   \n",
       "4            0               0                 1  ...               0   \n",
       "5            0               0                 0  ...               0   \n",
       "6            0               0                 0  ...               0   \n",
       "7            0               0                 0  ...               1   \n",
       "8            0               0                 0  ...               0   \n",
       "9            0               0                 0  ...               0   \n",
       "\n",
       "   sexual_themes  simulated_gambling  strong_janguage  strong_sexual_content  \\\n",
       "0              0                   0                0                      0   \n",
       "1              0                   0                0                      0   \n",
       "2              0                   0                1                      0   \n",
       "3              0                   0                0                      0   \n",
       "4              0                   0                0                      0   \n",
       "5              0                   0                0                      0   \n",
       "6              0                   0                0                      0   \n",
       "7              0                   0                0                      0   \n",
       "8              0                   0                0                      0   \n",
       "9              0                   0                0                      0   \n",
       "\n",
       "   suggestive_themes  use_of_alcohol  use_of_drugs_and_alcohol  violence  \\\n",
       "0                  0               0                         0         0   \n",
       "1                  0               0                         0         0   \n",
       "2                  1               0                         0         0   \n",
       "3                  0               0                         0         0   \n",
       "4                  1               0                         0         0   \n",
       "5                  0               0                         0         0   \n",
       "6                  0               0                         0         1   \n",
       "7                  0               0                         0         0   \n",
       "8                  0               0                         0         0   \n",
       "9                  1               0                         0         0   \n",
       "\n",
       "   esrb_rating  \n",
       "0            E  \n",
       "1           ET  \n",
       "2            M  \n",
       "3           ET  \n",
       "4            T  \n",
       "5            E  \n",
       "6            T  \n",
       "7            T  \n",
       "8           ET  \n",
       "9            T  \n",
       "\n",
       "[10 rows x 34 columns]"
      ]
     },
     "execution_count": 5,
     "metadata": {},
     "output_type": "execute_result"
    }
   ],
   "source": [
    "df_train.head(10)"
   ]
  },
  {
   "cell_type": "markdown",
   "id": "d64f63e6",
   "metadata": {},
   "source": [
    "<h3>Preprocssing</h3>"
   ]
  },
  {
   "cell_type": "code",
   "execution_count": 6,
   "id": "4c5fd971",
   "metadata": {},
   "outputs": [
    {
     "data": {
      "text/plain": [
       "(1895, 32)"
      ]
     },
     "execution_count": 6,
     "metadata": {},
     "output_type": "execute_result"
    }
   ],
   "source": [
    "X_train = df_train.iloc[:, 1:-1]\n",
    "X_train.shape"
   ]
  },
  {
   "cell_type": "code",
   "execution_count": 7,
   "id": "69a9570d",
   "metadata": {},
   "outputs": [
    {
     "data": {
      "text/plain": [
       "(1895,)"
      ]
     },
     "execution_count": 7,
     "metadata": {},
     "output_type": "execute_result"
    }
   ],
   "source": [
    "y_train = df_train.iloc[:, -1]\n",
    "y_train.shape"
   ]
  },
  {
   "cell_type": "code",
   "execution_count": 8,
   "id": "1e8bd0e2",
   "metadata": {},
   "outputs": [
    {
     "data": {
      "text/plain": [
       "(500, 32)"
      ]
     },
     "execution_count": 8,
     "metadata": {},
     "output_type": "execute_result"
    }
   ],
   "source": [
    "X_test = df_test.iloc[:, 1:-1]\n",
    "X_test.shape"
   ]
  },
  {
   "cell_type": "code",
   "execution_count": 9,
   "id": "c7352884",
   "metadata": {
    "scrolled": true
   },
   "outputs": [
    {
     "data": {
      "text/plain": [
       "0       T\n",
       "1       E\n",
       "2       T\n",
       "3       E\n",
       "4      ET\n",
       "       ..\n",
       "495     M\n",
       "496     M\n",
       "497     M\n",
       "498     T\n",
       "499     T\n",
       "Name: esrb_rating, Length: 500, dtype: object"
      ]
     },
     "execution_count": 9,
     "metadata": {},
     "output_type": "execute_result"
    }
   ],
   "source": [
    "y_test = df_test.iloc[:, -1]\n",
    "y_test"
   ]
  },
  {
   "cell_type": "code",
   "execution_count": 10,
   "id": "cda7135b",
   "metadata": {},
   "outputs": [
    {
     "data": {
      "text/plain": [
       "array(['E', 'ET', 'M', 'T'], dtype=object)"
      ]
     },
     "execution_count": 10,
     "metadata": {},
     "output_type": "execute_result"
    }
   ],
   "source": [
    "labels = y_train.unique()\n",
    "labels"
   ]
  },
  {
   "cell_type": "markdown",
   "id": "ee7abcd4",
   "metadata": {},
   "source": [
    "<h3>Model Building</h3>"
   ]
  },
  {
   "cell_type": "code",
   "execution_count": 11,
   "id": "50bc589e",
   "metadata": {},
   "outputs": [
    {
     "data": {
      "text/plain": [
       "RandomForestClassifier(n_jobs=-1)"
      ]
     },
     "execution_count": 11,
     "metadata": {},
     "output_type": "execute_result"
    }
   ],
   "source": [
    "from sklearn.ensemble import RandomForestClassifier\n",
    "\n",
    "rfc = RandomForestClassifier(n_estimators=100, n_jobs=-1)\n",
    "rfc.fit(X_train, y_train)"
   ]
  },
  {
   "cell_type": "code",
   "execution_count": 12,
   "id": "1bf182aa",
   "metadata": {},
   "outputs": [
    {
     "data": {
      "text/plain": [
       "array(['T', 'E', 'M', 'E', 'ET', 'M', 'M', 'ET', 'E', 'T', 'T', 'T', 'ET',\n",
       "       'ET', 'T', 'M', 'M', 'T', 'E', 'ET', 'T', 'ET', 'ET', 'T', 'ET',\n",
       "       'ET', 'ET', 'T', 'M', 'T', 'T', 'ET', 'ET', 'T', 'ET', 'T', 'M',\n",
       "       'ET', 'E', 'T', 'T', 'T', 'ET', 'M', 'E', 'E', 'T', 'ET', 'ET',\n",
       "       'ET', 'T', 'T', 'T', 'ET', 'T', 'ET', 'ET', 'T', 'T', 'T', 'E',\n",
       "       'T', 'ET', 'E', 'M', 'ET', 'T', 'E', 'E', 'E', 'E', 'ET', 'T',\n",
       "       'ET', 'T', 'ET', 'T', 'M', 'E', 'E', 'T', 'T', 'T', 'ET', 'E', 'T',\n",
       "       'T', 'T', 'ET', 'ET', 'E', 'ET', 'T', 'T', 'T', 'E', 'ET', 'ET',\n",
       "       'ET', 'T', 'E', 'E', 'T', 'T', 'T', 'E', 'M', 'T', 'T', 'T', 'T',\n",
       "       'ET', 'ET', 'T', 'E', 'T', 'T', 'ET', 'T', 'E', 'T', 'T', 'ET',\n",
       "       'E', 'T', 'T', 'E', 'ET', 'ET', 'T', 'ET', 'T', 'M', 'ET', 'E',\n",
       "       'T', 'ET', 'T', 'ET', 'ET', 'E', 'T', 'T', 'T', 'M', 'T', 'M', 'T',\n",
       "       'ET', 'ET', 'ET', 'E', 'ET', 'T', 'E', 'E', 'E', 'M', 'T', 'T',\n",
       "       'ET', 'ET', 'ET', 'E', 'M', 'ET', 'M', 'E', 'ET', 'T', 'T', 'ET',\n",
       "       'T', 'T', 'M', 'E', 'M', 'T', 'ET', 'M', 'T', 'T', 'T', 'T', 'E',\n",
       "       'T', 'ET', 'T', 'ET', 'E', 'E', 'E', 'ET', 'ET', 'T', 'T', 'M',\n",
       "       'ET', 'ET', 'T', 'E', 'E', 'M', 'T', 'T', 'ET', 'T', 'E', 'ET',\n",
       "       'M', 'M', 'T', 'E', 'T', 'T', 'E', 'M', 'E', 'T', 'T', 'T', 'T',\n",
       "       'M', 'E', 'T', 'E', 'T', 'E', 'T', 'M', 'T', 'T', 'T', 'T', 'M',\n",
       "       'E', 'T', 'ET', 'E', 'E', 'E', 'ET', 'ET', 'ET', 'T', 'M', 'ET',\n",
       "       'T', 'ET', 'T', 'T', 'ET', 'E', 'M', 'ET', 'T', 'E', 'T', 'ET',\n",
       "       'T', 'ET', 'ET', 'M', 'M', 'T', 'T', 'T', 'ET', 'T', 'M', 'E', 'T',\n",
       "       'E', 'M', 'T', 'T', 'ET', 'E', 'M', 'ET', 'M', 'ET', 'E', 'T', 'T',\n",
       "       'E', 'T', 'T', 'T', 'T', 'T', 'T', 'ET', 'ET', 'T', 'T', 'ET', 'E',\n",
       "       'ET', 'ET', 'M', 'ET', 'E', 'T', 'ET', 'T', 'M', 'E', 'E', 'E',\n",
       "       'T', 'T', 'T', 'E', 'T', 'T', 'E', 'T', 'ET', 'E', 'M', 'T', 'T',\n",
       "       'T', 'T', 'E', 'E', 'M', 'T', 'T', 'T', 'T', 'T', 'T', 'T', 'ET',\n",
       "       'T', 'T', 'E', 'T', 'M', 'T', 'T', 'M', 'T', 'E', 'ET', 'T', 'T',\n",
       "       'T', 'ET', 'ET', 'ET', 'T', 'E', 'M', 'M', 'T', 'T', 'T', 'ET',\n",
       "       'ET', 'E', 'ET', 'ET', 'T', 'T', 'E', 'T', 'T', 'ET', 'E', 'T',\n",
       "       'ET', 'E', 'E', 'ET', 'T', 'M', 'E', 'ET', 'E', 'E', 'E', 'T',\n",
       "       'ET', 'E', 'ET', 'T', 'T', 'T', 'M', 'ET', 'M', 'T', 'E', 'ET',\n",
       "       'ET', 'T', 'E', 'ET', 'T', 'M', 'T', 'T', 'ET', 'ET', 'T', 'T',\n",
       "       'T', 'E', 'T', 'ET', 'ET', 'T', 'E', 'E', 'E', 'ET', 'T', 'ET',\n",
       "       'ET', 'ET', 'M', 'E', 'T', 'T', 'T', 'ET', 'T', 'ET', 'E', 'E',\n",
       "       'M', 'T', 'M', 'E', 'T', 'T', 'T', 'T', 'M', 'T', 'T', 'T', 'T',\n",
       "       'E', 'ET', 'T', 'M', 'T', 'E', 'M', 'M', 'T', 'ET', 'ET', 'T', 'T',\n",
       "       'M', 'T', 'E', 'ET', 'T', 'E', 'T', 'T', 'T', 'ET', 'ET', 'M', 'E',\n",
       "       'T', 'M', 'T', 'M', 'E', 'T', 'ET', 'T', 'ET', 'T', 'T', 'M', 'T',\n",
       "       'T', 'ET', 'E', 'E', 'ET', 'T', 'E', 'M', 'T', 'T', 'M', 'T', 'M',\n",
       "       'ET', 'T'], dtype=object)"
      ]
     },
     "execution_count": 12,
     "metadata": {},
     "output_type": "execute_result"
    }
   ],
   "source": [
    "y_predict = rfc.predict(X_test)\n",
    "#y_predict = label_encoder.inverse_transform(y_predict)\n",
    "y_predict"
   ]
  },
  {
   "cell_type": "code",
   "execution_count": 13,
   "id": "74989024",
   "metadata": {},
   "outputs": [
    {
     "data": {
      "text/plain": [
       "(0.834, 0.8401949898442789)"
      ]
     },
     "execution_count": 13,
     "metadata": {},
     "output_type": "execute_result"
    }
   ],
   "source": [
    "from sklearn.metrics import confusion_matrix, ConfusionMatrixDisplay\n",
    "from sklearn.metrics import accuracy_score\n",
    "from sklearn.metrics import precision_score\n",
    "\n",
    "cm = confusion_matrix(y_test, y_predict)\n",
    "accuracy = accuracy_score(y_test, y_predict)\n",
    "precision = precision_score(y_test, y_predict, average=\"weighted\")\n",
    "\n",
    "accuracy, precision"
   ]
  },
  {
   "cell_type": "code",
   "execution_count": 14,
   "id": "0bc99b65",
   "metadata": {},
   "outputs": [
    {
     "data": {
      "image/png": "[encoded data removed]",
      "text/plain": [
       "<Figure size 432x288 with 2 Axes>"
      ]
     },
     "metadata": {
      "needs_background": "light"
     },
     "output_type": "display_data"
    }
   ],
   "source": [
    "import matplotlib.pyplot as plt\n",
    "%matplotlib inline\n",
    "\n",
    "disp = ConfusionMatrixDisplay(confusion_matrix=cm, display_labels=labels)\n",
    "disp.plot()\n",
    "plt.show()"
   ]
  },
  {
   "cell_type": "markdown",
   "id": "d7df74e1",
   "metadata": {},
   "source": [
    "<h3>Compare Different Number of Estimators</h3>"
   ]
  },
  {
   "cell_type": "code",
   "execution_count": 15,
   "id": "29a35342",
   "metadata": {},
   "outputs": [],
   "source": [
    "import numpy as np\n",
    "import pandas as pd\n",
    "from sklearn.ensemble import RandomForestClassifier\n",
    "from sklearn.metrics import confusion_matrix, ConfusionMatrixDisplay\n",
    "from sklearn.metrics import accuracy_score\n",
    "from sklearn.metrics import precision_score\n",
    "import matplotlib.pyplot as plt\n",
    "%matplotlib inline\n",
    "\n",
    "def TestRandForest(X_train, y_train, X_test, y_test, n_est=100, verbose=3):\n",
    "    #verbose flags: 1<<0 print accuracy and precision, 1<<1 plot confusion matrix \n",
    "    rfc = RandomForestClassifier(n_estimators=n_est, n_jobs=-1)\n",
    "    rfc.fit(X_train, y_train)\n",
    "    y_predict = rfc.predict(X_test)\n",
    "    cm = confusion_matrix(y_test, y_predict)\n",
    "    accuracy = accuracy_score(y_test, y_predict)\n",
    "    precision = precision_score(y_test, y_predict, average=\"weighted\")\n",
    "    disp = ConfusionMatrixDisplay(confusion_matrix=cm, display_labels=y_train.unique())\n",
    "    if verbose & (1 << 0) > 0:\n",
    "        print(f'n_estimators = {n_est} Accuracy : {accuracy:.4f}   Precision(weighted) : {precision:.4f}')\n",
    "    if verbose & (1 << 1) > 0:\n",
    "        disp.plot()\n",
    "        plt.title(\"Randon Forest Classifier (n_estimators=\" + str(n_est) +\")\")\n",
    "        plt.show()\n",
    "    return disp, accuracy, precision"
   ]
  },
  {
   "cell_type": "code",
   "execution_count": 16,
   "id": "9cdb0d6b",
   "metadata": {
    "scrolled": true
   },
   "outputs": [
    {
     "name": "stdout",
     "output_type": "stream",
     "text": [
      "n_estimators = 1 Accuracy : 0.8280   Precision(weighted) : 0.8295\n"
     ]
    },
    {
     "data": {
      "image/png": "[encoded data removed]",
      "text/plain": [
       "<Figure size 432x288 with 2 Axes>"
      ]
     },
     "metadata": {
      "needs_background": "light"
     },
     "output_type": "display_data"
    },
    {
     "name": "stdout",
     "output_type": "stream",
     "text": [
      "n_estimators = 10 Accuracy : 0.8340   Precision(weighted) : 0.8375\n"
     ]
    },
    {
     "data": {
      "image/png": "[encoded data removed]",
      "text/plain": [
       "<Figure size 432x288 with 2 Axes>"
      ]
     },
     "metadata": {
      "needs_background": "light"
     },
     "output_type": "display_data"
    },
    {
     "name": "stdout",
     "output_type": "stream",
     "text": [
      "n_estimators = 50 Accuracy : 0.8420   Precision(weighted) : 0.8479\n"
     ]
    },
    {
     "data": {
      "image/png": "[encoded data removed]",
      "text/plain": [
       "<Figure size 432x288 with 2 Axes>"
      ]
     },
     "metadata": {
      "needs_background": "light"
     },
     "output_type": "display_data"
    },
    {
     "name": "stdout",
     "output_type": "stream",
     "text": [
      "n_estimators = 100 Accuracy : 0.8480   Precision(weighted) : 0.8544\n"
     ]
    },
    {
     "data": {
      "image/png": "[encoded data removed]",
      "text/plain": [
       "<Figure size 432x288 with 2 Axes>"
      ]
     },
     "metadata": {
      "needs_background": "light"
     },
     "output_type": "display_data"
    },
    {
     "name": "stdout",
     "output_type": "stream",
     "text": [
      "n_estimators = 500 Accuracy : 0.8520   Precision(weighted) : 0.8574\n"
     ]
    },
    {
     "data": {
      "image/png": "[encoded data removed]",
      "text/plain": [
       "<Figure size 432x288 with 2 Axes>"
      ]
     },
     "metadata": {
      "needs_background": "light"
     },
     "output_type": "display_data"
    }
   ],
   "source": [
    "for n in [1, 10, 50, 100, 500]:\n",
    "    disp, accuracy, precision = TestRandForest(X_train, y_train, X_test, y_test, n_est=n, verbose=3)"
   ]
  },
  {
   "cell_type": "markdown",
   "id": "7809987f",
   "metadata": {},
   "source": [
    "<h3>PCA</h3>"
   ]
  },
  {
   "cell_type": "code",
   "execution_count": 17,
   "id": "25971420",
   "metadata": {},
   "outputs": [],
   "source": [
    "from sklearn.decomposition import PCA\n",
    "\n",
    "pca = PCA(n_components=2)"
   ]
  },
  {
   "cell_type": "code",
   "execution_count": 18,
   "id": "4282a3e4",
   "metadata": {},
   "outputs": [
    {
     "data": {
      "text/plain": [
       "(1895, 2)"
      ]
     },
     "execution_count": 18,
     "metadata": {},
     "output_type": "execute_result"
    }
   ],
   "source": [
    "X_train_pca = pca.fit_transform(X_train)\n",
    "X_train_pca.shape"
   ]
  },
  {
   "cell_type": "code",
   "execution_count": 19,
   "id": "b85d6f77",
   "metadata": {},
   "outputs": [
    {
     "data": {
      "text/plain": [
       "(500, 2)"
      ]
     },
     "execution_count": 19,
     "metadata": {},
     "output_type": "execute_result"
    }
   ],
   "source": [
    "X_test_pca = pca.fit_transform(X_test)\n",
    "X_test_pca.shape"
   ]
  },
  {
   "cell_type": "code",
   "execution_count": 20,
   "id": "3bd39ea7",
   "metadata": {},
   "outputs": [
    {
     "name": "stdout",
     "output_type": "stream",
     "text": [
      "n_estimators = 50 Accuracy : 0.4320   Precision(weighted) : 0.3999\n"
     ]
    },
    {
     "data": {
      "image/png": "[encoded data removed]",
      "text/plain": [
       "<Figure size 432x288 with 2 Axes>"
      ]
     },
     "metadata": {
      "needs_background": "light"
     },
     "output_type": "display_data"
    },
    {
     "data": {
      "text/plain": [
       "(<sklearn.metrics._plot.confusion_matrix.ConfusionMatrixDisplay at 0x22854b47af0>,\n",
       " 0.432,\n",
       " 0.3999071575268982)"
      ]
     },
     "execution_count": 20,
     "metadata": {},
     "output_type": "execute_result"
    }
   ],
   "source": [
    "TestRandForest(X_train_pca, y_train, X_test_pca, y_test, 50)"
   ]
  },
  {
   "cell_type": "markdown",
   "id": "d3d39cc9",
   "metadata": {},
   "source": [
    "<h3>Compare Different Number of PCA Components</h3>"
   ]
  },
  {
   "cell_type": "code",
   "execution_count": 21,
   "id": "2091b0ae",
   "metadata": {},
   "outputs": [],
   "source": [
    "import numpy as np\n",
    "import pandas as pd\n",
    "from sklearn.decomposition import PCA\n",
    "\n",
    "def ApplyPCA(X_train, X_test, n_compo=2):\n",
    "    pca = PCA(n_components=n_compo)\n",
    "    X_train_pca = pca.fit_transform(X_train)\n",
    "    X_test_pca = pca.fit_transform(X_test)\n",
    "    return X_train_pca, X_test_pca"
   ]
  },
  {
   "cell_type": "code",
   "execution_count": 22,
   "id": "da0857bc",
   "metadata": {},
   "outputs": [
    {
     "data": {
      "text/plain": [
       "(31, 2)"
      ]
     },
     "execution_count": 22,
     "metadata": {},
     "output_type": "execute_result"
    }
   ],
   "source": [
    "results = pd.DataFrame(index=range(2, 33), columns=[\"accuracy\", \"precision\"], dtype=float)\n",
    "results = results.fillna(0)\n",
    "results.shape"
   ]
  },
  {
   "cell_type": "code",
   "execution_count": 23,
   "id": "072d82ab",
   "metadata": {},
   "outputs": [],
   "source": [
    "for n in range(2, 33):\n",
    "    X_train_pca, X_test_pca = ApplyPCA(X_train, X_test, n_compo=n)\n",
    "    disp, accuracy, precision = TestRandForest(X_train_pca, y_train, X_test_pca, y_test, n_est=50, verbose=0)\n",
    "    results.iloc[n - 2, 0] = accuracy\n",
    "    results.iloc[n - 2, 1] = precision"
   ]
  },
  {
   "cell_type": "code",
   "execution_count": 24,
   "id": "900cbc89",
   "metadata": {
    "scrolled": true
   },
   "outputs": [
    {
     "data": {
      "text/html": [
       "<div>\n",
       "<style scoped>\n",
       "    .dataframe tbody tr th:only-of-type {\n",
       "        vertical-align: middle;\n",
       "    }\n",
       "\n",
       "    .dataframe tbody tr th {\n",
       "        vertical-align: top;\n",
       "    }\n",
       "\n",
       "    .dataframe thead th {\n",
       "        text-align: right;\n",
       "    }\n",
       "</style>\n",
       "<table border=\"1\" class=\"dataframe\">\n",
       "  <thead>\n",
       "    <tr style=\"text-align: right;\">\n",
       "      <th></th>\n",
       "      <th>accuracy</th>\n",
       "      <th>precision</th>\n",
       "    </tr>\n",
       "  </thead>\n",
       "  <tbody>\n",
       "    <tr>\n",
       "      <th>2</th>\n",
       "      <td>0.452</td>\n",
       "      <td>0.412643</td>\n",
       "    </tr>\n",
       "    <tr>\n",
       "      <th>3</th>\n",
       "      <td>0.416</td>\n",
       "      <td>0.396829</td>\n",
       "    </tr>\n",
       "    <tr>\n",
       "      <th>4</th>\n",
       "      <td>0.490</td>\n",
       "      <td>0.499049</td>\n",
       "    </tr>\n",
       "    <tr>\n",
       "      <th>5</th>\n",
       "      <td>0.464</td>\n",
       "      <td>0.487269</td>\n",
       "    </tr>\n",
       "    <tr>\n",
       "      <th>6</th>\n",
       "      <td>0.430</td>\n",
       "      <td>0.404837</td>\n",
       "    </tr>\n",
       "    <tr>\n",
       "      <th>7</th>\n",
       "      <td>0.394</td>\n",
       "      <td>0.407524</td>\n",
       "    </tr>\n",
       "    <tr>\n",
       "      <th>8</th>\n",
       "      <td>0.346</td>\n",
       "      <td>0.348154</td>\n",
       "    </tr>\n",
       "    <tr>\n",
       "      <th>9</th>\n",
       "      <td>0.352</td>\n",
       "      <td>0.251885</td>\n",
       "    </tr>\n",
       "    <tr>\n",
       "      <th>10</th>\n",
       "      <td>0.390</td>\n",
       "      <td>0.362535</td>\n",
       "    </tr>\n",
       "    <tr>\n",
       "      <th>11</th>\n",
       "      <td>0.346</td>\n",
       "      <td>0.234662</td>\n",
       "    </tr>\n",
       "    <tr>\n",
       "      <th>12</th>\n",
       "      <td>0.404</td>\n",
       "      <td>0.392724</td>\n",
       "    </tr>\n",
       "    <tr>\n",
       "      <th>13</th>\n",
       "      <td>0.362</td>\n",
       "      <td>0.348017</td>\n",
       "    </tr>\n",
       "    <tr>\n",
       "      <th>14</th>\n",
       "      <td>0.416</td>\n",
       "      <td>0.472455</td>\n",
       "    </tr>\n",
       "    <tr>\n",
       "      <th>15</th>\n",
       "      <td>0.372</td>\n",
       "      <td>0.323776</td>\n",
       "    </tr>\n",
       "    <tr>\n",
       "      <th>16</th>\n",
       "      <td>0.388</td>\n",
       "      <td>0.350132</td>\n",
       "    </tr>\n",
       "    <tr>\n",
       "      <th>17</th>\n",
       "      <td>0.306</td>\n",
       "      <td>0.186829</td>\n",
       "    </tr>\n",
       "    <tr>\n",
       "      <th>18</th>\n",
       "      <td>0.400</td>\n",
       "      <td>0.438162</td>\n",
       "    </tr>\n",
       "    <tr>\n",
       "      <th>19</th>\n",
       "      <td>0.356</td>\n",
       "      <td>0.386297</td>\n",
       "    </tr>\n",
       "    <tr>\n",
       "      <th>20</th>\n",
       "      <td>0.438</td>\n",
       "      <td>0.520049</td>\n",
       "    </tr>\n",
       "    <tr>\n",
       "      <th>21</th>\n",
       "      <td>0.404</td>\n",
       "      <td>0.488037</td>\n",
       "    </tr>\n",
       "    <tr>\n",
       "      <th>22</th>\n",
       "      <td>0.396</td>\n",
       "      <td>0.355369</td>\n",
       "    </tr>\n",
       "    <tr>\n",
       "      <th>23</th>\n",
       "      <td>0.380</td>\n",
       "      <td>0.365512</td>\n",
       "    </tr>\n",
       "    <tr>\n",
       "      <th>24</th>\n",
       "      <td>0.342</td>\n",
       "      <td>0.293036</td>\n",
       "    </tr>\n",
       "    <tr>\n",
       "      <th>25</th>\n",
       "      <td>0.452</td>\n",
       "      <td>0.556876</td>\n",
       "    </tr>\n",
       "    <tr>\n",
       "      <th>26</th>\n",
       "      <td>0.400</td>\n",
       "      <td>0.394086</td>\n",
       "    </tr>\n",
       "    <tr>\n",
       "      <th>27</th>\n",
       "      <td>0.412</td>\n",
       "      <td>0.374526</td>\n",
       "    </tr>\n",
       "    <tr>\n",
       "      <th>28</th>\n",
       "      <td>0.418</td>\n",
       "      <td>0.504081</td>\n",
       "    </tr>\n",
       "    <tr>\n",
       "      <th>29</th>\n",
       "      <td>0.396</td>\n",
       "      <td>0.397205</td>\n",
       "    </tr>\n",
       "    <tr>\n",
       "      <th>30</th>\n",
       "      <td>0.406</td>\n",
       "      <td>0.485011</td>\n",
       "    </tr>\n",
       "    <tr>\n",
       "      <th>31</th>\n",
       "      <td>0.372</td>\n",
       "      <td>0.391588</td>\n",
       "    </tr>\n",
       "    <tr>\n",
       "      <th>32</th>\n",
       "      <td>0.356</td>\n",
       "      <td>0.421217</td>\n",
       "    </tr>\n",
       "  </tbody>\n",
       "</table>\n",
       "</div>"
      ],
      "text/plain": [
       "    accuracy  precision\n",
       "2      0.452   0.412643\n",
       "3      0.416   0.396829\n",
       "4      0.490   0.499049\n",
       "5      0.464   0.487269\n",
       "6      0.430   0.404837\n",
       "7      0.394   0.407524\n",
       "8      0.346   0.348154\n",
       "9      0.352   0.251885\n",
       "10     0.390   0.362535\n",
       "11     0.346   0.234662\n",
       "12     0.404   0.392724\n",
       "13     0.362   0.348017\n",
       "14     0.416   0.472455\n",
       "15     0.372   0.323776\n",
       "16     0.388   0.350132\n",
       "17     0.306   0.186829\n",
       "18     0.400   0.438162\n",
       "19     0.356   0.386297\n",
       "20     0.438   0.520049\n",
       "21     0.404   0.488037\n",
       "22     0.396   0.355369\n",
       "23     0.380   0.365512\n",
       "24     0.342   0.293036\n",
       "25     0.452   0.556876\n",
       "26     0.400   0.394086\n",
       "27     0.412   0.374526\n",
       "28     0.418   0.504081\n",
       "29     0.396   0.397205\n",
       "30     0.406   0.485011\n",
       "31     0.372   0.391588\n",
       "32     0.356   0.421217"
      ]
     },
     "execution_count": 24,
     "metadata": {},
     "output_type": "execute_result"
    }
   ],
   "source": [
    "results"
   ]
  },
  {
   "cell_type": "code",
   "execution_count": 25,
   "id": "9fe61faa",
   "metadata": {},
   "outputs": [
    {
     "data": {
      "image/png": "[encoded data removed]",
      "text/plain": [
       "<Figure size 432x288 with 2 Axes>"
      ]
     },
     "metadata": {
      "needs_background": "light"
     },
     "output_type": "display_data"
    }
   ],
   "source": [
    "fig, (ax1, ax2) = plt.subplots(2, 1)\n",
    "fig.suptitle('PCA Accuracy and Precision')\n",
    "\n",
    "ax1.plot(results.index, results.accuracy, 'o-')\n",
    "ax1.set_ylabel('Accuracy')\n",
    "\n",
    "ax2.plot(results.index, results.precision, '.-')\n",
    "ax2.set_xlabel('Number of PCA Components')\n",
    "ax2.set_ylabel('Precision')\n",
    "\n",
    "plt.show()"
   ]
  }
 ],
 "metadata": {
  "kernelspec": {
   "display_name": "Python 3",
   "language": "python",
   "name": "python3"
  },
  "language_info": {
   "codemirror_mode": {
    "name": "ipython",
    "version": 3
   },
   "file_extension": ".py",
   "mimetype": "text/x-python",
   "name": "python",
   "nbconvert_exporter": "python",
   "pygments_lexer": "ipython3",
   "version": "3.8.8"
  }
 },
 "nbformat": 4,
 "nbformat_minor": 5
}
